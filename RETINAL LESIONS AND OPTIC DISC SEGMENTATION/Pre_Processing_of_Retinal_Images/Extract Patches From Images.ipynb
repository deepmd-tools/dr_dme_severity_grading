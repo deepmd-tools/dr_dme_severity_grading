{
 "cells": [
  {
   "cell_type": "code",
   "execution_count": 1,
   "metadata": {},
   "outputs": [],
   "source": [
    "from PIL import Image\n",
    "import os\n",
    "import sys\n",
    "import numpy as np"
   ]
  },
  {
   "cell_type": "code",
   "execution_count": 2,
   "metadata": {},
   "outputs": [],
   "source": [
    "current_dir = os.getcwd()\n",
    "image_dir = os.path.join(current_dir, 'Original Images\\Training Set')\n",
    "label_dir = os.path.join(current_dir, 'Groundtruths\\Training Set')\n",
    "\n",
    "validation_image_dir = os.path.join(current_dir, 'Original Images\\Testing Set')\n",
    "validation_label_dir = os.path.join(current_dir, 'Groundtruths\\Testing Set')"
   ]
  },
  {
   "cell_type": "code",
   "execution_count": 3,
   "metadata": {},
   "outputs": [],
   "source": [
    "x_train_filenames = os.listdir(image_dir)\n",
    "y_train_filenames = os.listdir(label_dir)\n",
    "\n",
    "x_validation_filenames = os.listdir(validation_image_dir)\n",
    "y_validation_filenames = os.listdir(validation_label_dir)"
   ]
  },
  {
   "cell_type": "code",
   "execution_count": 4,
   "metadata": {},
   "outputs": [
    {
     "name": "stdout",
     "output_type": "stream",
     "text": [
      "Number of training examples: 54\n",
      "Number of validation examples: 27\n"
     ]
    }
   ],
   "source": [
    "num_train_examples = len(x_train_filenames)\n",
    "num_val_examples = len(x_validation_filenames)\n",
    "\n",
    "print(\"Number of training examples: {}\".format(num_train_examples))\n",
    "print(\"Number of validation examples: {}\".format(num_val_examples))"
   ]
  },
  {
   "cell_type": "markdown",
   "metadata": {},
   "source": [
    "# Lets Begin: Creating images and labels patches"
   ]
  },
  {
   "cell_type": "markdown",
   "metadata": {},
   "source": [
    "# Training Set"
   ]
  },
  {
   "cell_type": "code",
   "execution_count": null,
   "metadata": {},
   "outputs": [],
   "source": [
    "output_dir_data = os.path.join(current_dir, 'PATCH DATASET\\Images\\Train Images')\n",
    "output_dir_mask = os.path.join(current_dir, 'PATCH DATASET\\Labels\\Train Labels')"
   ]
  },
  {
   "cell_type": "code",
   "execution_count": null,
   "metadata": {},
   "outputs": [],
   "source": [
    "dir_mask = os.path.join(current_dir, 'gt_label_train')"
   ]
  },
  {
   "cell_type": "code",
   "execution_count": null,
   "metadata": {},
   "outputs": [],
   "source": [
    "negative_patches = []\n",
    "positive_count = 0"
   ]
  },
  {
   "cell_type": "code",
   "execution_count": null,
   "metadata": {},
   "outputs": [],
   "source": [
    "for file in os.listdir(dir_mask):\n",
    "    outfile = os.path.splitext(file)[0]\n",
    "    extension = os.path.splitext(file)[1]\n",
    " \n",
    "    im = Image.open(os.path.join(dir_mask, file))\n",
    "    imd = Image.open(os.path.join(image_dir, file))\n",
    "    \n",
    "    patch_id = 0\n",
    "    for i in range(10):\n",
    "        for j in range(16):\n",
    "            top_y = i*256\n",
    "            if (i == 9):\n",
    "                top_y = 2336\n",
    "            top_x = j*256\n",
    "            if(j == 15):\n",
    "                top_x = 3776\n",
    "            \n",
    "            im_crop = im.crop((top_x, top_y, top_x + 512, top_y+512))\n",
    "            imd_crop = imd.crop((top_x, top_y, top_x+512, top_y+512))\n",
    "            \n",
    "            im_crop.save(os.path.join(output_dir_mask, outfile+\"_p\"+str(patch_id)+extension), \"JPEG\", quality = 100)\n",
    "            imd_crop.save(os.path.join(output_dir_data, outfile+\"_p\"+str(patch_id)+extension), \"JPEG\", quality = 100)\n",
    "            \n",
    "            patch_id += 1"
   ]
  },
  {
   "cell_type": "markdown",
   "metadata": {},
   "source": [
    "# Testing Set"
   ]
  },
  {
   "cell_type": "code",
   "execution_count": 5,
   "metadata": {},
   "outputs": [],
   "source": [
    "output_dir_data = os.path.join(current_dir, 'PATCH DATASET\\Images\\Test Images')\n",
    "output_dir_mask = os.path.join(current_dir, 'PATCH DATASET\\Labels\\Test Labels')"
   ]
  },
  {
   "cell_type": "code",
   "execution_count": 6,
   "metadata": {},
   "outputs": [],
   "source": [
    "dir_mask = os.path.join(current_dir, 'gt_label_test')"
   ]
  },
  {
   "cell_type": "code",
   "execution_count": 7,
   "metadata": {},
   "outputs": [],
   "source": [
    "for file in os.listdir(dir_mask):\n",
    "    outfile = os.path.splitext(file)[0]\n",
    "    extension = os.path.splitext(file)[1]\n",
    " \n",
    "    im = Image.open(os.path.join(dir_mask, file))\n",
    "    imd = Image.open(os.path.join(validation_image_dir, file))\n",
    "    \n",
    "    patch_id = 0\n",
    "    for i in range(10):\n",
    "        for j in range(16):\n",
    "            top_y = i*256\n",
    "            if (i == 9):\n",
    "                top_y = 2336\n",
    "            top_x = j*256\n",
    "            if(j == 15):\n",
    "                top_x = 3776\n",
    "            \n",
    "            im_crop = im.crop((top_x, top_y, top_x + 512, top_y+512))\n",
    "            imd_crop = imd.crop((top_x, top_y, top_x+512, top_y+512))\n",
    "            \n",
    "            im_crop.save(os.path.join(output_dir_mask, outfile+\"_p\"+str(patch_id)+extension), \"JPEG\", quality = 100)\n",
    "            imd_crop.save(os.path.join(output_dir_data, outfile+\"_p\"+str(patch_id)+extension), \"JPEG\", quality = 100)\n",
    "            \n",
    "            patch_id += 1"
   ]
  },
  {
   "cell_type": "code",
   "execution_count": 17,
   "metadata": {},
   "outputs": [
    {
     "name": "stdout",
     "output_type": "stream",
     "text": [
      "160\n"
     ]
    }
   ],
   "source": [
    "print(patch_id)"
   ]
  },
  {
   "cell_type": "code",
   "execution_count": null,
   "metadata": {},
   "outputs": [],
   "source": []
  },
  {
   "cell_type": "markdown",
   "metadata": {},
   "source": [
    "# Exploring Images"
   ]
  },
  {
   "cell_type": "code",
   "execution_count": null,
   "metadata": {},
   "outputs": [],
   "source": [
    "import cv2\n",
    "import matplotlib.pyplot as plt"
   ]
  },
  {
   "cell_type": "code",
   "execution_count": null,
   "metadata": {},
   "outputs": [],
   "source": [
    "imageRead = cv2.imread(os.path.join(output_dir_data, \"IDRiD_01_p47.jpg\"))\n",
    "imageRead = cv2.cvtColor(imageRead, cv2.COLOR_BGR2RGB)\n",
    "print(imageRead.shape)\n",
    "plt.imshow(imageRead)\n",
    "plt.colorbar()\n",
    "imageRead.max()"
   ]
  },
  {
   "cell_type": "code",
   "execution_count": null,
   "metadata": {},
   "outputs": [],
   "source": [
    "## Lets try some things\n",
    "\n",
    "imageRead = cv2.imread(os.path.join(output_dir_mask, \"IDRiD_05_p14.jpg\"))\n",
    "print(imageRead.shape)\n",
    "plt.imshow(imageRead)\n",
    "plt.colorbar()\n",
    "\n",
    "print(imageRead.max())"
   ]
  },
  {
   "cell_type": "markdown",
   "metadata": {},
   "source": [
    "# Deleting Negative Patches"
   ]
  },
  {
   "cell_type": "markdown",
   "metadata": {},
   "source": [
    "# Training Set"
   ]
  },
  {
   "cell_type": "code",
   "execution_count": null,
   "metadata": {},
   "outputs": [],
   "source": [
    "import cv2"
   ]
  },
  {
   "cell_type": "code",
   "execution_count": null,
   "metadata": {},
   "outputs": [],
   "source": [
    "## Lets delete some patches\n",
    "output_images_filenames = os.listdir(output_dir_data)\n",
    "output_masks_filenames = os.listdir(output_dir_mask)"
   ]
  },
  {
   "cell_type": "code",
   "execution_count": null,
   "metadata": {},
   "outputs": [],
   "source": [
    "deleted_images = []\n",
    "positive = 0\n",
    "negative = 0"
   ]
  },
  {
   "cell_type": "code",
   "execution_count": null,
   "metadata": {},
   "outputs": [],
   "source": [
    "for masks in output_masks_filenames:\n",
    "    #print(masks)\n",
    "    imageRead = cv2.imread(os.path.join(output_dir_mask, masks))\n",
    "    if (imageRead.max() < 100):\n",
    "        deleted_images.append(masks)\n",
    "        negative = negative + 1\n",
    "        os.remove(os.path.join(output_dir_mask, masks))\n",
    "    else:\n",
    "        positive = positive + 1"
   ]
  },
  {
   "cell_type": "code",
   "execution_count": null,
   "metadata": {},
   "outputs": [],
   "source": [
    "print(\"Total images to delete: \", len(deleted_images))\n",
    "print(\"Total positive images: \", positive)\n",
    "print(\"Total negative images: \", negative)\n",
    "#print(deleted_images)"
   ]
  },
  {
   "cell_type": "code",
   "execution_count": null,
   "metadata": {},
   "outputs": [],
   "source": [
    "## Deleting original images\n",
    "delCount = 0"
   ]
  },
  {
   "cell_type": "code",
   "execution_count": null,
   "metadata": {},
   "outputs": [],
   "source": [
    "for delImages in deleted_images:\n",
    "    os.remove(os.path.join(output_dir_data, delImages))\n",
    "    delCount = delCount + 1"
   ]
  },
  {
   "cell_type": "code",
   "execution_count": null,
   "metadata": {},
   "outputs": [],
   "source": [
    "print(\"Total original images deleted: \", delCount)"
   ]
  },
  {
   "cell_type": "code",
   "execution_count": null,
   "metadata": {},
   "outputs": [],
   "source": []
  },
  {
   "cell_type": "markdown",
   "metadata": {},
   "source": [
    "# Testing Set"
   ]
  },
  {
   "cell_type": "code",
   "execution_count": 9,
   "metadata": {},
   "outputs": [],
   "source": [
    "import cv2"
   ]
  },
  {
   "cell_type": "code",
   "execution_count": 10,
   "metadata": {},
   "outputs": [],
   "source": [
    "## Lets delete some patches\n",
    "output_images_filenames = os.listdir(output_dir_data)\n",
    "output_masks_filenames = os.listdir(output_dir_mask)"
   ]
  },
  {
   "cell_type": "code",
   "execution_count": 11,
   "metadata": {},
   "outputs": [],
   "source": [
    "deleted_images = []\n",
    "positive = 0\n",
    "negative = 0"
   ]
  },
  {
   "cell_type": "code",
   "execution_count": 12,
   "metadata": {},
   "outputs": [],
   "source": [
    "for masks in output_masks_filenames:\n",
    "    #print(masks)\n",
    "    imageRead = cv2.imread(os.path.join(output_dir_mask, masks))\n",
    "    if (imageRead.max() < 100):\n",
    "        deleted_images.append(masks)\n",
    "        negative = negative + 1\n",
    "        os.remove(os.path.join(output_dir_mask, masks))\n",
    "    else:\n",
    "        positive = positive + 1"
   ]
  },
  {
   "cell_type": "code",
   "execution_count": 13,
   "metadata": {},
   "outputs": [
    {
     "name": "stdout",
     "output_type": "stream",
     "text": [
      "Total images to delete:  2629\n",
      "Total positive images:  1691\n",
      "Total negative images:  2629\n"
     ]
    }
   ],
   "source": [
    "print(\"Total images to delete: \", len(deleted_images))\n",
    "print(\"Total positive images: \", positive)\n",
    "print(\"Total negative images: \", negative)\n",
    "#print(deleted_images)"
   ]
  },
  {
   "cell_type": "code",
   "execution_count": 14,
   "metadata": {},
   "outputs": [],
   "source": [
    "## Deleting original images\n",
    "delCount = 0"
   ]
  },
  {
   "cell_type": "code",
   "execution_count": 15,
   "metadata": {},
   "outputs": [],
   "source": [
    "for delImages in deleted_images:\n",
    "    os.remove(os.path.join(output_dir_data, delImages))\n",
    "    delCount = delCount + 1"
   ]
  },
  {
   "cell_type": "code",
   "execution_count": 16,
   "metadata": {},
   "outputs": [
    {
     "name": "stdout",
     "output_type": "stream",
     "text": [
      "Total original images deleted:  2629\n"
     ]
    }
   ],
   "source": [
    "print(\"Total original images deleted: \", delCount)"
   ]
  },
  {
   "cell_type": "code",
   "execution_count": null,
   "metadata": {},
   "outputs": [],
   "source": []
  },
  {
   "cell_type": "code",
   "execution_count": null,
   "metadata": {},
   "outputs": [],
   "source": []
  }
 ],
 "metadata": {
  "kernelspec": {
   "display_name": "Python 3",
   "language": "python",
   "name": "python3"
  },
  "language_info": {
   "codemirror_mode": {
    "name": "ipython",
    "version": 3
   },
   "file_extension": ".py",
   "mimetype": "text/x-python",
   "name": "python",
   "nbconvert_exporter": "python",
   "pygments_lexer": "ipython3",
   "version": "3.7.3"
  }
 },
 "nbformat": 4,
 "nbformat_minor": 2
}
