{
 "cells": [
  {
   "cell_type": "code",
   "execution_count": 2,
   "metadata": {},
   "outputs": [],
   "source": [
    "from PIL import Image\n",
    "import os\n",
    "import sys"
   ]
  },
  {
   "cell_type": "markdown",
   "metadata": {},
   "source": [
    "# Ground truths converting into binary 0 and 1s"
   ]
  },
  {
   "cell_type": "code",
   "execution_count": 3,
   "metadata": {},
   "outputs": [
    {
     "name": "stdout",
     "output_type": "stream",
     "text": [
      "C:\\Users\\prajw\\Downloads\\Documents\\TENSORFLOW TUTORIAL\\DEEP LEARNING PROJECTS\\IMAGE SEGMENTATION\\Original Images\\Training Set\n",
      "C:\\Users\\prajw\\Downloads\\Documents\\TENSORFLOW TUTORIAL\\DEEP LEARNING PROJECTS\\IMAGE SEGMENTATION\\Groundtruths\\Training Set\n",
      "C:\\Users\\prajw\\Downloads\\Documents\\TENSORFLOW TUTORIAL\\DEEP LEARNING PROJECTS\\IMAGE SEGMENTATION\\Original Images\\Testing Set\n",
      "C:\\Users\\prajw\\Downloads\\Documents\\TENSORFLOW TUTORIAL\\DEEP LEARNING PROJECTS\\IMAGE SEGMENTATION\\Groundtruths\\Testing Set\n"
     ]
    }
   ],
   "source": [
    "current_dir = os.getcwd()\n",
    "image_dir = os.path.join(current_dir, 'Original Images\\Training Set')\n",
    "label_dir = os.path.join(current_dir, 'Groundtruths\\Training Set')\n",
    "\n",
    "validation_image_dir = os.path.join(current_dir, 'Original Images\\Testing Set')\n",
    "validation_label_dir = os.path.join(current_dir, 'Groundtruths\\Testing Set')\n",
    "print(image_dir)\n",
    "print(label_dir)\n",
    "print(validation_image_dir)\n",
    "print(validation_label_dir)"
   ]
  },
  {
   "cell_type": "code",
   "execution_count": 4,
   "metadata": {},
   "outputs": [
    {
     "name": "stdout",
     "output_type": "stream",
     "text": [
      "IDRiD_01.jpg\n"
     ]
    }
   ],
   "source": [
    "x_train_filenames = os.listdir(image_dir)\n",
    "y_train_filenames = os.listdir(label_dir)\n",
    "\n",
    "x_validation_filenames = os.listdir(validation_image_dir)\n",
    "y_validation_filenames = os.listdir(validation_label_dir)\n",
    "\n",
    "print(x_train_filenames[0])\n",
    "#print(\"\")\n",
    "#print(y_train_filenames)\n",
    "#print(\"\")\n",
    "#print(x_validation_filenames)\n",
    "#print(\"\")\n",
    "#print(y_validation_filenames)\n",
    "#print(\"\")"
   ]
  },
  {
   "cell_type": "code",
   "execution_count": 5,
   "metadata": {},
   "outputs": [
    {
     "name": "stdout",
     "output_type": "stream",
     "text": [
      "Number of training examples: 54\n",
      "Number of validation examples: 27\n"
     ]
    }
   ],
   "source": [
    "num_train_examples = len(x_train_filenames)\n",
    "num_val_examples = len(x_validation_filenames)\n",
    "\n",
    "print(\"Number of training examples: {}\".format(num_train_examples))\n",
    "print(\"Number of validation examples: {}\".format(num_val_examples))"
   ]
  },
  {
   "cell_type": "markdown",
   "metadata": {},
   "source": [
    "# Training Labels"
   ]
  },
  {
   "cell_type": "code",
   "execution_count": null,
   "metadata": {},
   "outputs": [],
   "source": [
    "def resizeImage(infile, output_dir = \"\", size = (4288, 2848)):\n",
    "    outfile = os.path.splitext(infile)[0]\n",
    "    extension = os.path.splitext(infile)[1]\n",
    "    \n",
    "    if (extension == \".jpg\"):\n",
    "        return\n",
    "    \n",
    "    if infile != outfile:\n",
    "        try:\n",
    "            im = Image.open(os.path.join(label_dir, infile))\n",
    "            gray = im.convert('L')\n",
    "            bw = gray.point(lambda x: 0 if x < 50 else 255, '1')\n",
    "            \n",
    "            bw.save(os.path.join(output_dir, outfile[:-3] + \".jpg\"), \"JPEG\", quality = 100)\n",
    "            \n",
    "        except IOError:\n",
    "            print(\"Cannot reduce image for\", infile)"
   ]
  },
  {
   "cell_type": "code",
   "execution_count": null,
   "metadata": {},
   "outputs": [],
   "source": [
    "output_dir = os.path.join(current_dir, 'PATCH DATASET\\Labels\\Train Labels')\n",
    "for file in y_train_filenames:\n",
    "    resizeImage(file, output_dir)"
   ]
  },
  {
   "cell_type": "code",
   "execution_count": null,
   "metadata": {},
   "outputs": [],
   "source": []
  },
  {
   "cell_type": "markdown",
   "metadata": {},
   "source": [
    "# Testing Labels"
   ]
  },
  {
   "cell_type": "code",
   "execution_count": null,
   "metadata": {},
   "outputs": [],
   "source": [
    "def resizeImage1(infile, output_dir = \"\", size = (4288, 2848)):\n",
    "    outfile = os.path.splitext(infile)[0]\n",
    "    extension = os.path.splitext(infile)[1]\n",
    "    \n",
    "    if (extension == \".jpg\"):\n",
    "        return\n",
    "    \n",
    "    if infile != outfile:\n",
    "        try:\n",
    "            im = Image.open(os.path.join(validation_label_dir, infile))\n",
    "            gray = im.convert('L')\n",
    "            bw = gray.point(lambda x: 0 if x < 50 else 255, '1')\n",
    "            \n",
    "            bw.save(os.path.join(output_dir, outfile[:-3] + \".jpg\"), \"JPEG\", quality = 100)\n",
    "            \n",
    "        except IOError:\n",
    "            print(\"Cannot reduce image for\", infile)"
   ]
  },
  {
   "cell_type": "code",
   "execution_count": null,
   "metadata": {},
   "outputs": [],
   "source": [
    "output_dir1 = os.path.join(current_dir, 'PATCH DATASET\\Labels\\Test Labels')\n",
    "#print(output_dir)\n",
    "for file in y_validation_filenames:\n",
    "    resizeImage1(file, output_dir1)"
   ]
  },
  {
   "cell_type": "code",
   "execution_count": null,
   "metadata": {},
   "outputs": [],
   "source": []
  },
  {
   "cell_type": "markdown",
   "metadata": {},
   "source": [
    "# Image Testing "
   ]
  },
  {
   "cell_type": "code",
   "execution_count": 7,
   "metadata": {},
   "outputs": [],
   "source": [
    "output_dir = os.path.join(current_dir, 'PATCH DATASET\\Labels\\Train Labels')"
   ]
  },
  {
   "cell_type": "code",
   "execution_count": null,
   "metadata": {},
   "outputs": [],
   "source": [
    "import cv2\n",
    "import matplotlib.pyplot as plt\n",
    "\n",
    "imageRead = cv2.imread(os.path.join(output_dir, 'IDRiD_01.jpg'), cv2.IMREAD_GRAYSCALE)\n",
    "plt.imshow(imageRead, cmap = 'gray')\n",
    "print(imageRead.shape)"
   ]
  },
  {
   "cell_type": "code",
   "execution_count": null,
   "metadata": {},
   "outputs": [],
   "source": []
  },
  {
   "cell_type": "code",
   "execution_count": null,
   "metadata": {},
   "outputs": [],
   "source": []
  },
  {
   "cell_type": "code",
   "execution_count": null,
   "metadata": {},
   "outputs": [],
   "source": []
  },
  {
   "cell_type": "code",
   "execution_count": null,
   "metadata": {},
   "outputs": [],
   "source": []
  }
 ],
 "metadata": {
  "kernelspec": {
   "display_name": "Python 3",
   "language": "python",
   "name": "python3"
  },
  "language_info": {
   "codemirror_mode": {
    "name": "ipython",
    "version": 3
   },
   "file_extension": ".py",
   "mimetype": "text/x-python",
   "name": "python",
   "nbconvert_exporter": "python",
   "pygments_lexer": "ipython3",
   "version": "3.7.3"
  }
 },
 "nbformat": 4,
 "nbformat_minor": 2
}
