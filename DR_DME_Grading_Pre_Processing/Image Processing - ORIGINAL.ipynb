{
 "cells": [
  {
   "cell_type": "markdown",
   "metadata": {},
   "source": [
    "# READING, FIXING, RESIGING, ROTATION, FLIPPING"
   ]
  },
  {
   "cell_type": "code",
   "execution_count": null,
   "metadata": {},
   "outputs": [],
   "source": [
    "import os\n",
    "current_dir = os.getcwd()\n",
    "print(current_dir)\n",
    "base_dir = os.path.join(current_dir, 'Original Images')\n",
    "\n",
    "train_dir = os.path.join(base_dir, 'Training Set')\n",
    "validation_dir = os.path.join(base_dir, 'Testing Set')\n",
    "\n",
    "#Directory with our training cat/dog pictures\n",
    "train_ndr_dir = os.path.join(train_dir, 'aNo_DR')\n",
    "train_mnpdr_dir = os.path.join(train_dir, 'bMild_NPDR')\n",
    "train_monpdr_dir = os.path.join(train_dir, 'cModerate_NPDR')\n",
    "train_snpdr_dir = os.path.join(train_dir, 'dSevere_NPDR')\n",
    "train_pdr_dir = os.path.join(train_dir, 'eProliferative_DR')\n",
    "\n",
    "#Directory with our validation cat/dog pictures\n",
    "validation_ndr_dir = os.path.join(validation_dir, 'aNo_DR')\n",
    "validation_mnpdr_dir = os.path.join(validation_dir, 'bMild_NPDR')\n",
    "validation_monpdr_dir = os.path.join(validation_dir, 'cModerate_NPDR')\n",
    "validation_snpdr_dir = os.path.join(validation_dir, 'dSevere_NPDR')\n",
    "validation_pdr_dir = os.path.join(validation_dir, 'eProliferative_DR')"
   ]
  },
  {
   "cell_type": "code",
   "execution_count": null,
   "metadata": {},
   "outputs": [],
   "source": [
    "print('Total training No_DR images: ', len(os.listdir(train_ndr_dir)))\n",
    "print('Total training Mild_NPDR images: ', len(os.listdir(train_mnpdr_dir)))\n",
    "print('Total training Moderate_NPDR images: ', len(os.listdir(train_monpdr_dir)))\n",
    "print('Total training Severe_NPDR images: ', len(os.listdir(train_snpdr_dir)))\n",
    "print('Total training No_DR images: ', len(os.listdir(train_pdr_dir)))\n",
    "print(\"\")\n",
    "print('Total validation No_DR images: ', len(os.listdir(validation_ndr_dir)))\n",
    "print('Total validation Mild_NPDR images: ', len(os.listdir(validation_mnpdr_dir)))\n",
    "print('Total validation Moderate_NPDR images: ', len(os.listdir(validation_monpdr_dir)))\n",
    "print('Total validation Severe_NPDR images: ', len(os.listdir(validation_snpdr_dir)))\n",
    "print('Total validation No_DR images: ', len(os.listdir(validation_pdr_dir)))"
   ]
  },
  {
   "cell_type": "code",
   "execution_count": null,
   "metadata": {},
   "outputs": [],
   "source": [
    "#GETTING FILENAMES TRAINING\n",
    "x_train_filenamesNDR = os.listdir(train_ndr_dir) \n",
    "#print(len(x_train_filenamesNDR))\n",
    "x_train_filenamesMNPDR  = os.listdir(train_mnpdr_dir)\n",
    "x_train_filenamesMoNPDR = os.listdir(train_monpdr_dir)\n",
    "x_train_filenamesSNPDR = os.listdir(train_snpdr_dir)\n",
    "x_train_filenamesPDR = os.listdir(train_pdr_dir)\n",
    "\n",
    "#GETTING FILENAMES TESTING\n",
    "y_validation_filenamesNDR = os.listdir(validation_ndr_dir)\n",
    "y_validation_filenamesMNPDR = os.listdir(validation_mnpdr_dir)\n",
    "y_validation_filenamesMoNPDR = os.listdir(validation_monpdr_dir)\n",
    "y_validation_filenamesSNPDR = os.listdir(validation_snpdr_dir)\n",
    "y_validation_filenamesPDR = os.listdir(validation_pdr_dir)"
   ]
  },
  {
   "cell_type": "code",
   "execution_count": null,
   "metadata": {},
   "outputs": [],
   "source": [
    "from skimage.transform import rotate\n",
    "from skimage import io\n",
    "import cv2\n",
    "import matplotlib.pyplot as plt"
   ]
  },
  {
   "cell_type": "raw",
   "metadata": {},
   "source": [
    "for img in x_train_filenamesMNPDR:\n",
    "    #print(img)\n",
    "    images = cv2.imread(os.path.join(train_mnpdr_dir, img))\n",
    "    fixed_images = cv2.cvtColor(images, cv2.COLOR_BGR2RGB)\n",
    "    resize_image = cv2.resize(fixed_images,(256,256))\n",
    "    rotated_images = rotate(resize_image, 180)\n",
    "    plt.imshow(rotated_images)\n",
    "    #status = plt.imsave(os.path.join(train_dir, '{}_{}'.format(45, img)), rotated_images)\n",
    "    #print(\"Image written to file-system:\", status) \n",
    "    break"
   ]
  },
  {
   "cell_type": "raw",
   "metadata": {},
   "source": [
    "CATEGORIES = ['aNo_DR', 'bMild_NPDR', 'cModerate_NPDR', 'dSevere_NPDR', 'eProliferative_DR']\n",
    "\n",
    "for category in CATEGORIES:\n",
    "    images_path = os.path.join(train_dir, category) ##Path for all folders\n",
    "    #print(images_path)\n",
    "    for imgs in os.listdir(images_path):\n",
    "        break\n",
    "        print(imgs)\n",
    "        "
   ]
  },
  {
   "cell_type": "markdown",
   "metadata": {},
   "source": [
    "# FOR TRAINING/TESTING IMAGES"
   ]
  },
  {
   "cell_type": "markdown",
   "metadata": {},
   "source": [
    "# Image Reading, Fixing, and Resizing to (256, 256)"
   ]
  },
  {
   "cell_type": "code",
   "execution_count": null,
   "metadata": {},
   "outputs": [],
   "source": [
    "##Image reading and converting to original format BGR --> RGB and Resizing to (256,256)\n",
    "\n",
    "#For ALL\n",
    "def fix_resize(fileNames, pathNames, savePathName, folderNames):\n",
    "    \n",
    "    for img in fileNames:\n",
    "        getImage = cv2.imread(os.path.join(pathNames, img))\n",
    "        fixImage = cv2.cvtColor(getImage, cv2.COLOR_BGR2RGB)\n",
    "        #plt.imshow(fixImage)\n",
    "        y, x, channel = fixImage.shape\n",
    "        startx = x//2 - (3700//2)\n",
    "        starty = y//2 - (2848//2)\n",
    "        imageCrop = fixImage[starty:starty+2848,startx:startx+3400]\n",
    "        #print(imageCrop.shape)\n",
    "        imageResize = cv2.resize(imageCrop, (256,256))\n",
    "        #print(imageResize.shape)\n",
    "        #plt.imshow(imageResize)\n",
    "        plt.imsave(os.path.join(savePathName, '{}/{}_{}'.format(folderNames, 'cr', img)), imageResize)"
   ]
  },
  {
   "cell_type": "code",
   "execution_count": null,
   "metadata": {},
   "outputs": [],
   "source": [
    "##TRAINING IMAGES\n",
    "#For NDR\n",
    "fix_resize(x_train_filenamesNDR, train_ndr_dir, train_dir, 'A' )\n",
    "#For MNPDR\n",
    "fix_resize(x_train_filenamesMNPDR, train_mnpdr_dir, train_dir, 'B' )\n",
    "#For MoNPDR\n",
    "fix_resize(x_train_filenamesMoNPDR, train_monpdr_dir, train_dir, 'C' )\n",
    "#For SPDR\n",
    "fix_resize(x_train_filenamesSNPDR, train_snpdr_dir, train_dir, 'D' )\n",
    "#For PDR\n",
    "fix_resize(x_train_filenamesPDR, train_pdr_dir, train_dir, 'E' )"
   ]
  },
  {
   "cell_type": "code",
   "execution_count": null,
   "metadata": {},
   "outputs": [],
   "source": [
    "##VALIDATION IMAGES\n",
    "#For NDR\n",
    "fix_resize(y_validation_filenamesNDR, validation_ndr_dir, validation_dir, 'A' )\n",
    "#For MNPDR\n",
    "fix_resize(y_validation_filenamesMNPDR, validation_mnpdr_dir, validation_dir, 'B' )\n",
    "#For MoNPDR\n",
    "fix_resize(y_validation_filenamesMoNPDR, validation_monpdr_dir, validation_dir, 'C' )\n",
    "#For SPDR\n",
    "fix_resize(y_validation_filenamesSNPDR, validation_snpdr_dir, validation_dir, 'D' )\n",
    "#For PDR\n",
    "fix_resize(y_validation_filenamesPDR, validation_pdr_dir, validation_dir, 'E' )"
   ]
  },
  {
   "cell_type": "raw",
   "metadata": {},
   "source": [
    "##Image reading and converting to original format BGR --> RGB and Resizing to (256,256)\n",
    "\n",
    "#For No-DR\n",
    "for img in x_train_filenamesNDR:\n",
    "    getImage = cv2.imread(os.path.join(train_ndr_dir, img))\n",
    "    fixImage = cv2.cvtColor(getImage, cv2.COLOR_BGR2RGB)\n",
    "    #plt.imshow(fixImage)\n",
    "    y, x, channel = fixImage.shape\n",
    "    startx = x//2 - (3700//2)\n",
    "    starty = y//2 - (2848//2)\n",
    "    imageCrop = fixImage[starty:starty+2848,startx:startx+3400]\n",
    "    #print(imageCrop.shape)\n",
    "    imageResize = cv2.resize(imageCrop, (256,256))\n",
    "    #print(imageResize.shape)\n",
    "    #plt.imshow(imageResize)\n",
    "    plt.imsave(os.path.join(train_dir, 'A/{}_{}'.format('cr', img)),imageResize)"
   ]
  },
  {
   "cell_type": "raw",
   "metadata": {},
   "source": [
    "#For MNPDR\n",
    "for img in x_train_filenamesMNPDR:\n",
    "    getImage = cv2.imread(os.path.join(train_mnpdr_dir, img))\n",
    "    fixImage = cv2.cvtColor(getImage, cv2.COLOR_BGR2RGB)\n",
    "    #plt.imshow(fixImage)\n",
    "    y, x, channel = fixImage.shape\n",
    "    startx = x//2 - (3700//2)\n",
    "    starty = y//2 - (2848//2)\n",
    "    imageCrop = fixImage[starty:starty+2848,startx:startx+3400]\n",
    "    #print(imageCrop.shape)\n",
    "    imageResize = cv2.resize(imageCrop, (256,256))\n",
    "    #print(imageResize.shape)\n",
    "    #plt.imshow(imageResize)\n",
    "    plt.imsave(os.path.join(train_dir, 'B/{}_{}'.format('cr', img)),imageResize)"
   ]
  },
  {
   "cell_type": "raw",
   "metadata": {},
   "source": [
    "#For MoNPDR\n",
    "for img in x_train_filenamesMoNPDR:\n",
    "    getImage = cv2.imread(os.path.join(train_monpdr_dir, img))\n",
    "    fixImage = cv2.cvtColor(getImage, cv2.COLOR_BGR2RGB)\n",
    "    #plt.imshow(fixImage)\n",
    "    y, x, channel = fixImage.shape\n",
    "    startx = x//2 - (3700//2)\n",
    "    starty = y//2 - (2848//2)\n",
    "    imageCrop = fixImage[starty:starty+2848,startx:startx+3400]\n",
    "    #print(imageCrop.shape)\n",
    "    imageResize = cv2.resize(imageCrop, (256,256))\n",
    "    #print(imageResize.shape)\n",
    "    #plt.imshow(imageResize)\n",
    "    plt.imsave(os.path.join(train_dir, 'C/{}_{}'.format('cr', img)),imageResize)"
   ]
  },
  {
   "cell_type": "raw",
   "metadata": {},
   "source": [
    "#For SNPDR\n",
    "for img in x_train_filenamesSNPDR:\n",
    "    getImage = cv2.imread(os.path.join(train_snpdr_dir, img))\n",
    "    fixImage = cv2.cvtColor(getImage, cv2.COLOR_BGR2RGB)\n",
    "    #plt.imshow(fixImage)\n",
    "    y, x, channel = fixImage.shape\n",
    "    startx = x//2 - (3700//2)\n",
    "    starty = y//2 - (2848//2)\n",
    "    imageCrop = fixImage[starty:starty+2848,startx:startx+3400]\n",
    "    #print(imageCrop.shape)\n",
    "    imageResize = cv2.resize(imageCrop, (256,256))\n",
    "    #print(imageResize.shape)\n",
    "    #plt.imshow(imageResize)\n",
    "    plt.imsave(os.path.join(train_dir, 'D/{}_{}'.format('cr', img)),imageResize)"
   ]
  },
  {
   "cell_type": "raw",
   "metadata": {},
   "source": [
    "#For PDR\n",
    "for img in x_train_filenamesPDR:\n",
    "    getImage = cv2.imread(os.path.join(train_pdr_dir, img))\n",
    "    fixImage = cv2.cvtColor(getImage, cv2.COLOR_BGR2RGB)\n",
    "    #plt.imshow(fixImage)\n",
    "    y, x, channel = fixImage.shape\n",
    "    startx = x//2 - (3700//2)\n",
    "    starty = y//2 - (2848//2)\n",
    "    imageCrop = fixImage[starty:starty+2848,startx:startx+3400]\n",
    "    #print(imageCrop.shape)\n",
    "    imageResize = cv2.resize(imageCrop, (256,256))\n",
    "    #print(imageResize.shape)\n",
    "    #plt.imshow(imageResize)\n",
    "    plt.imsave(os.path.join(train_dir, 'E/{}_{}'.format('cr', img)),imageResize)"
   ]
  },
  {
   "cell_type": "markdown",
   "metadata": {},
   "source": [
    "# IMAGE ROTATION"
   ]
  },
  {
   "cell_type": "code",
   "execution_count": null,
   "metadata": {},
   "outputs": [],
   "source": [
    "##TRAINING\n",
    "##FILE PATH FOR NEW IMAGES\n",
    "new_ndr_dir = os.path.join(train_dir, 'A')\n",
    "new_mnpdr_dir = os.path.join(train_dir, 'B')\n",
    "new_monpdr_dir = os.path.join(train_dir, 'C')\n",
    "new_snpdr_dir = os.path.join(train_dir, 'D')\n",
    "new_pdr_dir = os.path.join(train_dir, 'E')\n",
    "\n",
    "#GETTING FILENAMES TRAINING\n",
    "new_train_filenamesNDR = os.listdir(new_ndr_dir) \n",
    "new_train_filenamesMNPDR  = os.listdir(new_mnpdr_dir)\n",
    "new_train_filenamesMoNPDR = os.listdir(new_monpdr_dir)\n",
    "new_train_filenamesSNPDR = os.listdir(new_snpdr_dir)\n",
    "new_train_filenamesPDR = os.listdir(new_pdr_dir)"
   ]
  },
  {
   "cell_type": "code",
   "execution_count": null,
   "metadata": {},
   "outputs": [],
   "source": [
    "##VALIDATION\n",
    "##FILE PATH FOR NEW IMAGES\n",
    "new1_ndr_dir = os.path.join(validation_dir, 'A')\n",
    "new1_mnpdr_dir = os.path.join(validation_dir, 'B')\n",
    "new1_monpdr_dir = os.path.join(validation_dir, 'C')\n",
    "new1_snpdr_dir = os.path.join(validation_dir, 'D')\n",
    "new1_pdr_dir = os.path.join(validation_dir, 'E')\n",
    "\n",
    "#GETTING FILENAMES TRAINING\n",
    "new_validation_filenamesNDR = os.listdir(new1_ndr_dir) \n",
    "new_validation_filenamesMNPDR  = os.listdir(new1_mnpdr_dir)\n",
    "new_validation_filenamesMoNPDR = os.listdir(new1_monpdr_dir)\n",
    "new_validation_filenamesSNPDR = os.listdir(new1_snpdr_dir)\n",
    "new_validation_filenamesPDR = os.listdir(new1_pdr_dir)"
   ]
  },
  {
   "cell_type": "code",
   "execution_count": null,
   "metadata": {},
   "outputs": [],
   "source": [
    "##Image rotating to 45, 90, 135, 180, 225, 270, 315\n",
    "\n",
    "rotation_range = [45, 90, 135, 180, 225, 270, 315]\n",
    "##For all\n",
    "def rotate_image(filenames, pathName, savePathName, folderName):\n",
    "    for rotates in rotation_range:\n",
    "        for imagess in filenames:\n",
    "            getImage = cv2.imread(os.path.join(pathName, imagess))\n",
    "            fixImage = cv2.cvtColor(getImage, cv2.COLOR_BGR2RGB)\n",
    "            rotateImage = rotate(fixImage, rotates)\n",
    "            #plt.imshow(rotateImage)\n",
    "            plt.imsave(os.path.join(savePathName, '{}/r{}_{}'.format(folderName, rotates, imagess)), rotateImage)"
   ]
  },
  {
   "cell_type": "code",
   "execution_count": null,
   "metadata": {},
   "outputs": [],
   "source": [
    "##TRAINING IMAGES\n",
    "#For NDR\n",
    "rotate_image(new_train_filenamesNDR, new_ndr_dir, train_dir, 'A' )\n",
    "#For MNPDR\n",
    "rotate_image(new_train_filenamesMNPDR, new_mnpdr_dir, train_dir, 'B' )\n",
    "#For MoNPDR\n",
    "rotate_image(new_train_filenamesMoNPDR, new_monpdr_dir, train_dir, 'C' )\n",
    "#For SPDR\n",
    "rotate_image(new_train_filenamesSNPDR, new_snpdr_dir, train_dir, 'D' )\n",
    "#For PDR\n",
    "rotate_image(new_train_filenamesPDR, new_pdr_dir, train_dir, 'E' )"
   ]
  },
  {
   "cell_type": "code",
   "execution_count": null,
   "metadata": {},
   "outputs": [],
   "source": [
    "##VALIDATION IMAGES\n",
    "#For NDR\n",
    "rotate_image(new_validation_filenamesNDR, new1_ndr_dir, validation_dir, 'A' )\n",
    "#For MNPDR\n",
    "rotate_image(new_validation_filenamesMNPDR, new1_mnpdr_dir, validation_dir, 'B' )\n",
    "#For MoNPDR\n",
    "rotate_image(new_validation_filenamesMoNPDR, new1_monpdr_dir, validation_dir, 'C' )\n",
    "#For SPDR\n",
    "rotate_image(new_validation_filenamesSNPDR, new1_snpdr_dir, validation_dir, 'D' )\n",
    "#For PDR\n",
    "rotate_image(new_validation_filenamesPDR, new1_pdr_dir, validation_dir, 'E' )"
   ]
  },
  {
   "cell_type": "markdown",
   "metadata": {},
   "source": [
    "# Image Flipping {Vertical and Horizontal}"
   ]
  },
  {
   "cell_type": "code",
   "execution_count": null,
   "metadata": {},
   "outputs": [],
   "source": [
    "##Image flipping to vertical and horizontal\n",
    "flip_range = [0, 1]\n",
    "##For all\n",
    "def flipping_image(filenames, pathName, savePathName, folderName):\n",
    "    for flipss in flip_range:\n",
    "        for imagess in filenames:\n",
    "            getImage = cv2.imread(os.path.join(pathName, imagess))\n",
    "            fixImage = cv2.cvtColor(getImage, cv2.COLOR_BGR2RGB)\n",
    "            flipImage = cv2.flip(fixImage, flipss)\n",
    "            #plt.imshow(flipImage)\n",
    "            plt.imsave(os.path.join(savePathName, '{}/f{}_{}'.format(folderName, flipss, imagess)), flipImage)"
   ]
  },
  {
   "cell_type": "code",
   "execution_count": null,
   "metadata": {},
   "outputs": [],
   "source": [
    "##TRAINING IMAGES\n",
    "#For NDR\n",
    "flipping_image(new_train_filenamesNDR, new_ndr_dir, train_dir, 'A' )\n",
    "#For MNPDR\n",
    "flipping_image(new_train_filenamesMNPDR, new_mnpdr_dir, train_dir, 'B' )\n",
    "#For MoNPDR\n",
    "flipping_image(new_train_filenamesMoNPDR, new_monpdr_dir, train_dir, 'C' )\n",
    "#For SNPDR\n",
    "flipping_image(new_train_filenamesSNPDR, new_snpdr_dir, train_dir, 'D' )\n",
    "#For PDR\n",
    "flipping_image(new_train_filenamesPDR, new_pdr_dir, train_dir, 'E' )"
   ]
  },
  {
   "cell_type": "code",
   "execution_count": null,
   "metadata": {},
   "outputs": [],
   "source": [
    "##VALIDATION IMAGES\n",
    "#For NDR\n",
    "flipping_image(new_validation_filenamesNDR, new1_ndr_dir, validation_dir, 'A' )\n",
    "#For MNPDR\n",
    "flipping_image(new_validation_filenamesMNPDR, new1_mnpdr_dir, validation_dir, 'B' )\n",
    "#For MoNPDR\n",
    "flipping_image(new_validation_filenamesMoNPDR, new1_monpdr_dir, validation_dir, 'C' )\n",
    "#For SNPDR\n",
    "flipping_image(new_validation_filenamesSNPDR, new1_snpdr_dir, validation_dir, 'D' )\n",
    "#For PDR\n",
    "flipping_image(new_validation_filenamesPDR, new1_pdr_dir, validation_dir, 'E' )"
   ]
  },
  {
   "cell_type": "code",
   "execution_count": null,
   "metadata": {},
   "outputs": [],
   "source": []
  },
  {
   "cell_type": "markdown",
   "metadata": {},
   "source": [
    "# MODEL TRAINING AND EVALUATING"
   ]
  },
  {
   "cell_type": "code",
   "execution_count": null,
   "metadata": {},
   "outputs": [],
   "source": []
  }
 ],
 "metadata": {
  "kernelspec": {
   "display_name": "Python 3",
   "language": "python",
   "name": "python3"
  },
  "language_info": {
   "codemirror_mode": {
    "name": "ipython",
    "version": 3
   },
   "file_extension": ".py",
   "mimetype": "text/x-python",
   "name": "python",
   "nbconvert_exporter": "python",
   "pygments_lexer": "ipython3",
   "version": "3.7.9"
  }
 },
 "nbformat": 4,
 "nbformat_minor": 2
}
