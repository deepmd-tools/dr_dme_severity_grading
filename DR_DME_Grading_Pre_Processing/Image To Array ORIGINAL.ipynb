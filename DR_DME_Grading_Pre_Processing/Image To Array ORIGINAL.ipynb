{
 "cells": [
  {
   "cell_type": "markdown",
   "metadata": {},
   "source": [
    "## Convert images to array, Save to .npy file"
   ]
  },
  {
   "cell_type": "code",
   "execution_count": 1,
   "metadata": {},
   "outputs": [],
   "source": [
    "import os\n",
    "import time\n",
    "import numpy as np\n",
    "import pandas as pd\n",
    "from PIL import Image"
   ]
  },
  {
   "cell_type": "code",
   "execution_count": null,
   "metadata": {},
   "outputs": [],
   "source": [
    "def convert_images_to_arrays(file_path, df):\n",
    "    \n",
    "    lst_imgs = [l for l in df['Train_Image_Names']]\n",
    "    return np.array([np.array(Image.open(file_path + img)) for img in lst_imgs])"
   ]
  },
  {
   "cell_type": "code",
   "execution_count": 9,
   "metadata": {},
   "outputs": [],
   "source": [
    "def save_to_array(arr_name, arr_object):\n",
    "    \n",
    "    return np.save(arr_name, arr_object)"
   ]
  },
  {
   "cell_type": "code",
   "execution_count": 2,
   "metadata": {},
   "outputs": [],
   "source": [
    "# Directories\n",
    "currentDir = os.getcwd()\n",
    "savePath = os.path.join(currentDir, \"DATASET\")\n",
    "train_images = os.path.join(currentDir, \"DATASET/Training Set/\")\n",
    "test_images = os.path.join(currentDir, \"DATASET/Testing Set/\")\n",
    "train_image_labels = os.path.join(currentDir, \"DATASET/master_train_labels.csv\")\n",
    "test_image_labels = os.path.join(currentDir, \"DATASET/master_test_labels.csv\")"
   ]
  },
  {
   "cell_type": "code",
   "execution_count": null,
   "metadata": {},
   "outputs": [],
   "source": [
    "start_time = time.time()\n",
    "\n",
    "labelsTrain = pd.read_csv(train_image_labels)\n",
    "labelsTest = pd.read_csv(test_image_labels)\n",
    "\n",
    "print(\"Writing Train Array\")\n",
    "X_train = convert_images_to_arrays(train_images, labelsTrain)\n",
    "print(\"Writing Test Array\")\n",
    "X_test = convert_images_to_arrays(test_images, labelsTest)\n",
    "\n",
    "print(X_train.shape)\n",
    "print(X_test.shape)\n",
    "\n",
    "print(\"Saving Train Array\")\n",
    "save_to_array(os.path.join(savePath, \"X_train.npy\"), X_train)\n",
    "print(\"Saving Test Array\")\n",
    "save_to_array(os.path.join(savePath, \"X_test.npy\"), X_test)\n",
    "\n",
    "print(\"--- %s seconds ---\" % (time.time() - start_time))"
   ]
  },
  {
   "cell_type": "markdown",
   "metadata": {},
   "source": [
    "## Converting .csv file labels to Numpy array and saving them"
   ]
  },
  {
   "cell_type": "code",
   "execution_count": 4,
   "metadata": {},
   "outputs": [],
   "source": [
    "labelsTrain = pd.read_csv(train_image_labels)\n",
    "labelsTest = pd.read_csv(test_image_labels)"
   ]
  },
  {
   "cell_type": "code",
   "execution_count": 5,
   "metadata": {},
   "outputs": [
    {
     "name": "stdout",
     "output_type": "stream",
     "text": [
      "(9912,)\n"
     ]
    }
   ],
   "source": [
    "y_train = np.array([l for l in labelsTrain['Labels']])\n",
    "print(y_train.shape)"
   ]
  },
  {
   "cell_type": "code",
   "execution_count": 6,
   "metadata": {},
   "outputs": [
    {
     "data": {
      "text/plain": [
       "array([0, 0, 2, ..., 4, 4, 0])"
      ]
     },
     "execution_count": 6,
     "metadata": {},
     "output_type": "execute_result"
    }
   ],
   "source": [
    "y_train"
   ]
  },
  {
   "cell_type": "code",
   "execution_count": 7,
   "metadata": {},
   "outputs": [
    {
     "data": {
      "text/plain": [
       "(2472,)"
      ]
     },
     "execution_count": 7,
     "metadata": {},
     "output_type": "execute_result"
    }
   ],
   "source": [
    "y_test = np.array([l for l in labelsTest['Labels']])\n",
    "y_test.shape"
   ]
  },
  {
   "cell_type": "code",
   "execution_count": 8,
   "metadata": {},
   "outputs": [
    {
     "data": {
      "text/plain": [
       "array([0, 0, 2, ..., 0, 0, 2])"
      ]
     },
     "execution_count": 8,
     "metadata": {},
     "output_type": "execute_result"
    }
   ],
   "source": [
    "y_test"
   ]
  },
  {
   "cell_type": "code",
   "execution_count": 10,
   "metadata": {},
   "outputs": [
    {
     "name": "stdout",
     "output_type": "stream",
     "text": [
      "Saving Train Array\n",
      "...DONE...\n",
      "Saving Test Array\n",
      "...DONE...\n"
     ]
    }
   ],
   "source": [
    "print(\"Saving Train Array\")\n",
    "save_to_array(os.path.join(savePath, \"y_train.npy\"), y_train)\n",
    "print(\"...DONE...\")\n",
    "print(\"Saving Test Array\")\n",
    "save_to_array(os.path.join(savePath, \"y_test.npy\"), y_test)\n",
    "print(\"...DONE...\")"
   ]
  },
  {
   "cell_type": "code",
   "execution_count": null,
   "metadata": {},
   "outputs": [],
   "source": []
  },
  {
   "cell_type": "markdown",
   "metadata": {},
   "source": [
    "### Checking the .npy file if it contains images or not"
   ]
  },
  {
   "cell_type": "code",
   "execution_count": 11,
   "metadata": {},
   "outputs": [],
   "source": [
    "currentDir = os.getcwd()\n",
    "savePath = os.path.join(currentDir, \"DATASET\")"
   ]
  },
  {
   "cell_type": "code",
   "execution_count": null,
   "metadata": {},
   "outputs": [],
   "source": [
    "# Lets load and test the images from the saved .npy file\n",
    "loadNpy = np.load(os.path.join(savePath, \"X_train.npy\"))"
   ]
  },
  {
   "cell_type": "code",
   "execution_count": null,
   "metadata": {},
   "outputs": [],
   "source": [
    "import matplotlib.pyplot as plt"
   ]
  },
  {
   "cell_type": "code",
   "execution_count": null,
   "metadata": {},
   "outputs": [],
   "source": [
    "plt.imshow(loadNpy[0])"
   ]
  },
  {
   "cell_type": "code",
   "execution_count": 16,
   "metadata": {},
   "outputs": [
    {
     "name": "stdout",
     "output_type": "stream",
     "text": [
      "<class 'numpy.ndarray'>\n",
      "[0 0 2 ... 4 4 0]\n"
     ]
    }
   ],
   "source": [
    "# Lets load the training labels for verifications\n",
    "loadNpyTest = np.load(os.path.join(savePath, \"y_train.npy\"))\n",
    "print(type(loadNpyTest))\n",
    "print(loadNpyTest)"
   ]
  },
  {
   "cell_type": "code",
   "execution_count": null,
   "metadata": {},
   "outputs": [],
   "source": []
  }
 ],
 "metadata": {
  "kernelspec": {
   "display_name": "Python 3",
   "language": "python",
   "name": "python3"
  },
  "language_info": {
   "codemirror_mode": {
    "name": "ipython",
    "version": 3
   },
   "file_extension": ".py",
   "mimetype": "text/x-python",
   "name": "python",
   "nbconvert_exporter": "python",
   "pygments_lexer": "ipython3",
   "version": "3.7.9"
  }
 },
 "nbformat": 4,
 "nbformat_minor": 2
}
