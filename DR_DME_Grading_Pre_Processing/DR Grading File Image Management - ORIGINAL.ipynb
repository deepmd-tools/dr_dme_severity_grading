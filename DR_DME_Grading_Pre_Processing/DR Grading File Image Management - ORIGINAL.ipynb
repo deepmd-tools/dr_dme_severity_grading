{
 "cells": [
  {
   "cell_type": "code",
   "execution_count": 1,
   "metadata": {},
   "outputs": [
    {
     "name": "stdout",
     "output_type": "stream",
     "text": [
      "C:\\Users\\prajw\\Downloads\\Documents\\TENSORFLOW TUTORIAL\\DEEP LEARNING PROJECTS\\DR_DATASET\n"
     ]
    }
   ],
   "source": [
    "import os\n",
    "import pandas as pd\n",
    "\n",
    "CurrentDir = os.getcwd()\n",
    "print(CurrentDir)\n",
    "base_dir = os.path.join(CurrentDir, 'Original Images')\n",
    "ground_truths = os.path.join(CurrentDir, 'Groundtruths')\n",
    "classify_dir = os.path.join(base_dir, 'Training Set')\n",
    "classify_dir1 = os.path.join(base_dir, 'Testing Set')"
   ]
  },
  {
   "cell_type": "code",
   "execution_count": 2,
   "metadata": {},
   "outputs": [],
   "source": [
    "import warnings\n",
    "warnings.filterwarnings('always')\n",
    "warnings.filterwarnings('ignore')"
   ]
  },
  {
   "cell_type": "code",
   "execution_count": 3,
   "metadata": {},
   "outputs": [],
   "source": [
    "def create_directory(parent_path):\n",
    "    if not os.path.exists(os.path.join(parent_path, 'No_DR')):\n",
    "        os.makedirs(os.path.join(parent_path, 'No_DR'))\n",
    "    \n",
    "    if not os.path.exists(os.path.join(parent_path, 'Mild_NPDR')):\n",
    "        os.makedirs(os.path.join(parent_path, 'Mild_NPDR'))\n",
    "        \n",
    "    if not os.path.exists(os.path.join(parent_path, 'Moderate_NPDR')):\n",
    "        os.makedirs(os.path.join(parent_path, 'Moderate_NPDR'))\n",
    "        \n",
    "    if not os.path.exists(os.path.join(parent_path, 'Severe_NPDR')):\n",
    "        os.makedirs(os.path.join(parent_path, 'Severe_NPDR'))\n",
    "    \n",
    "    if not os.path.exists(os.path.join(parent_path, 'Proliferative_DR')):\n",
    "        os.makedirs(os.path.join(parent_path, 'Proliferative_DR'))\n",
    "    \n",
    "create_directory(classify_dir)\n",
    "create_directory(classify_dir1)"
   ]
  },
  {
   "cell_type": "markdown",
   "metadata": {},
   "source": [
    "# DATA TRANSFERING TRAINING SET"
   ]
  },
  {
   "cell_type": "code",
   "execution_count": 4,
   "metadata": {},
   "outputs": [],
   "source": [
    "load_data = pd.read_csv(os.path.join(ground_truths, 'a. IDRiD_Disease Grading_Training Labels.csv'))"
   ]
  },
  {
   "cell_type": "code",
   "execution_count": 5,
   "metadata": {},
   "outputs": [
    {
     "name": "stdout",
     "output_type": "stream",
     "text": [
      "  Image name  Retinopathy grade  Risk of macular edema \n",
      "0  IDRiD_001                  3                       2\n",
      "1  IDRiD_002                  3                       2\n",
      "2  IDRiD_003                  2                       2\n",
      "3  IDRiD_004                  3                       2\n",
      "4  IDRiD_005                  4                       0\n"
     ]
    }
   ],
   "source": [
    "load_data.drop([\"Unnamed: 3\", \"Unnamed: 4\", \"Unnamed: 5\", \"Unnamed: 6\", \"Unnamed: 7\", \"Unnamed: 8\", \"Unnamed: 9\", \"Unnamed: 10\",\"Unnamed: 11\"],axis=1, inplace = True)\n",
    "print(load_data.head())"
   ]
  },
  {
   "cell_type": "code",
   "execution_count": 6,
   "metadata": {},
   "outputs": [],
   "source": [
    "load_data.rename(columns={\"Image name\":\"Image_name\",\"Retinopathy grade\":\"Grade_DR\", \"Risk of macular edema \":\"Risk_Edema\"}, inplace = True)"
   ]
  },
  {
   "cell_type": "code",
   "execution_count": 7,
   "metadata": {},
   "outputs": [
    {
     "name": "stdout",
     "output_type": "stream",
     "text": [
      "  Image_name  Grade_DR  Risk_Edema\n",
      "0  IDRiD_001         3           2\n",
      "1  IDRiD_002         3           2\n",
      "2  IDRiD_003         2           2\n",
      "3  IDRiD_004         3           2\n",
      "4  IDRiD_005         4           0\n"
     ]
    }
   ],
   "source": [
    "print(load_data.head())"
   ]
  },
  {
   "cell_type": "code",
   "execution_count": 13,
   "metadata": {},
   "outputs": [
    {
     "name": "stdout",
     "output_type": "stream",
     "text": [
      "(134, 3)\n"
     ]
    },
    {
     "data": {
      "text/html": [
       "<div>\n",
       "<style scoped>\n",
       "    .dataframe tbody tr th:only-of-type {\n",
       "        vertical-align: middle;\n",
       "    }\n",
       "\n",
       "    .dataframe tbody tr th {\n",
       "        vertical-align: top;\n",
       "    }\n",
       "\n",
       "    .dataframe thead th {\n",
       "        text-align: right;\n",
       "    }\n",
       "</style>\n",
       "<table border=\"1\" class=\"dataframe\">\n",
       "  <thead>\n",
       "    <tr style=\"text-align: right;\">\n",
       "      <th></th>\n",
       "      <th>Image_name</th>\n",
       "      <th>Grade_DR</th>\n",
       "      <th>Risk_Edema</th>\n",
       "    </tr>\n",
       "  </thead>\n",
       "  <tbody>\n",
       "    <tr>\n",
       "      <th>117</th>\n",
       "      <td>IDRiD_118</td>\n",
       "      <td>0</td>\n",
       "      <td>0</td>\n",
       "    </tr>\n",
       "    <tr>\n",
       "      <th>137</th>\n",
       "      <td>IDRiD_138</td>\n",
       "      <td>0</td>\n",
       "      <td>0</td>\n",
       "    </tr>\n",
       "    <tr>\n",
       "      <th>138</th>\n",
       "      <td>IDRiD_139</td>\n",
       "      <td>0</td>\n",
       "      <td>0</td>\n",
       "    </tr>\n",
       "    <tr>\n",
       "      <th>139</th>\n",
       "      <td>IDRiD_140</td>\n",
       "      <td>0</td>\n",
       "      <td>0</td>\n",
       "    </tr>\n",
       "    <tr>\n",
       "      <th>140</th>\n",
       "      <td>IDRiD_141</td>\n",
       "      <td>0</td>\n",
       "      <td>0</td>\n",
       "    </tr>\n",
       "  </tbody>\n",
       "</table>\n",
       "</div>"
      ],
      "text/plain": [
       "    Image_name  Grade_DR  Risk_Edema\n",
       "117  IDRiD_118         0           0\n",
       "137  IDRiD_138         0           0\n",
       "138  IDRiD_139         0           0\n",
       "139  IDRiD_140         0           0\n",
       "140  IDRiD_141         0           0"
      ]
     },
     "execution_count": 13,
     "metadata": {},
     "output_type": "execute_result"
    }
   ],
   "source": [
    "#FILTERING IMAGES BELONGING TO 0\n",
    "mask0 = load_data['Grade_DR'].isin([0])\n",
    "class0 = load_data[mask0]\n",
    "print(class0.shape)\n",
    "class0.head()"
   ]
  },
  {
   "cell_type": "code",
   "execution_count": 15,
   "metadata": {},
   "outputs": [
    {
     "name": "stdout",
     "output_type": "stream",
     "text": [
      "(20, 3)\n"
     ]
    },
    {
     "data": {
      "text/html": [
       "<div>\n",
       "<style scoped>\n",
       "    .dataframe tbody tr th:only-of-type {\n",
       "        vertical-align: middle;\n",
       "    }\n",
       "\n",
       "    .dataframe tbody tr th {\n",
       "        vertical-align: top;\n",
       "    }\n",
       "\n",
       "    .dataframe thead th {\n",
       "        text-align: right;\n",
       "    }\n",
       "</style>\n",
       "<table border=\"1\" class=\"dataframe\">\n",
       "  <thead>\n",
       "    <tr style=\"text-align: right;\">\n",
       "      <th></th>\n",
       "      <th>Image_name</th>\n",
       "      <th>Grade_DR</th>\n",
       "      <th>Risk_Edema</th>\n",
       "    </tr>\n",
       "  </thead>\n",
       "  <tbody>\n",
       "    <tr>\n",
       "      <th>20</th>\n",
       "      <td>IDRiD_021</td>\n",
       "      <td>1</td>\n",
       "      <td>0</td>\n",
       "    </tr>\n",
       "    <tr>\n",
       "      <th>78</th>\n",
       "      <td>IDRiD_079</td>\n",
       "      <td>1</td>\n",
       "      <td>0</td>\n",
       "    </tr>\n",
       "    <tr>\n",
       "      <th>104</th>\n",
       "      <td>IDRiD_105</td>\n",
       "      <td>1</td>\n",
       "      <td>0</td>\n",
       "    </tr>\n",
       "    <tr>\n",
       "      <th>193</th>\n",
       "      <td>IDRiD_194</td>\n",
       "      <td>1</td>\n",
       "      <td>0</td>\n",
       "    </tr>\n",
       "    <tr>\n",
       "      <th>197</th>\n",
       "      <td>IDRiD_198</td>\n",
       "      <td>1</td>\n",
       "      <td>0</td>\n",
       "    </tr>\n",
       "  </tbody>\n",
       "</table>\n",
       "</div>"
      ],
      "text/plain": [
       "    Image_name  Grade_DR  Risk_Edema\n",
       "20   IDRiD_021         1           0\n",
       "78   IDRiD_079         1           0\n",
       "104  IDRiD_105         1           0\n",
       "193  IDRiD_194         1           0\n",
       "197  IDRiD_198         1           0"
      ]
     },
     "execution_count": 15,
     "metadata": {},
     "output_type": "execute_result"
    }
   ],
   "source": [
    "#FILTERING IMAGES BELONGING TO 1\n",
    "mask1 = load_data['Grade_DR'].isin([1])\n",
    "class1 = load_data[mask1]\n",
    "print(class1.shape)\n",
    "class1.head()"
   ]
  },
  {
   "cell_type": "code",
   "execution_count": 18,
   "metadata": {},
   "outputs": [
    {
     "name": "stdout",
     "output_type": "stream",
     "text": [
      "(136, 3)\n"
     ]
    },
    {
     "data": {
      "text/html": [
       "<div>\n",
       "<style scoped>\n",
       "    .dataframe tbody tr th:only-of-type {\n",
       "        vertical-align: middle;\n",
       "    }\n",
       "\n",
       "    .dataframe tbody tr th {\n",
       "        vertical-align: top;\n",
       "    }\n",
       "\n",
       "    .dataframe thead th {\n",
       "        text-align: right;\n",
       "    }\n",
       "</style>\n",
       "<table border=\"1\" class=\"dataframe\">\n",
       "  <thead>\n",
       "    <tr style=\"text-align: right;\">\n",
       "      <th></th>\n",
       "      <th>Image_name</th>\n",
       "      <th>Grade_DR</th>\n",
       "      <th>Risk_Edema</th>\n",
       "    </tr>\n",
       "  </thead>\n",
       "  <tbody>\n",
       "    <tr>\n",
       "      <th>2</th>\n",
       "      <td>IDRiD_003</td>\n",
       "      <td>2</td>\n",
       "      <td>2</td>\n",
       "    </tr>\n",
       "    <tr>\n",
       "      <th>15</th>\n",
       "      <td>IDRiD_016</td>\n",
       "      <td>2</td>\n",
       "      <td>2</td>\n",
       "    </tr>\n",
       "    <tr>\n",
       "      <th>17</th>\n",
       "      <td>IDRiD_018</td>\n",
       "      <td>2</td>\n",
       "      <td>2</td>\n",
       "    </tr>\n",
       "    <tr>\n",
       "      <th>18</th>\n",
       "      <td>IDRiD_019</td>\n",
       "      <td>2</td>\n",
       "      <td>2</td>\n",
       "    </tr>\n",
       "    <tr>\n",
       "      <th>19</th>\n",
       "      <td>IDRiD_020</td>\n",
       "      <td>2</td>\n",
       "      <td>2</td>\n",
       "    </tr>\n",
       "  </tbody>\n",
       "</table>\n",
       "</div>"
      ],
      "text/plain": [
       "   Image_name  Grade_DR  Risk_Edema\n",
       "2   IDRiD_003         2           2\n",
       "15  IDRiD_016         2           2\n",
       "17  IDRiD_018         2           2\n",
       "18  IDRiD_019         2           2\n",
       "19  IDRiD_020         2           2"
      ]
     },
     "execution_count": 18,
     "metadata": {},
     "output_type": "execute_result"
    }
   ],
   "source": [
    "#FILTERING IMAGES BELONGING TO 2\n",
    "mask2 = load_data['Grade_DR'].isin([2])\n",
    "class2 = load_data[mask2]\n",
    "print(class2.shape)\n",
    "class2.head()"
   ]
  },
  {
   "cell_type": "code",
   "execution_count": 19,
   "metadata": {},
   "outputs": [
    {
     "name": "stdout",
     "output_type": "stream",
     "text": [
      "(74, 3)\n"
     ]
    },
    {
     "data": {
      "text/html": [
       "<div>\n",
       "<style scoped>\n",
       "    .dataframe tbody tr th:only-of-type {\n",
       "        vertical-align: middle;\n",
       "    }\n",
       "\n",
       "    .dataframe tbody tr th {\n",
       "        vertical-align: top;\n",
       "    }\n",
       "\n",
       "    .dataframe thead th {\n",
       "        text-align: right;\n",
       "    }\n",
       "</style>\n",
       "<table border=\"1\" class=\"dataframe\">\n",
       "  <thead>\n",
       "    <tr style=\"text-align: right;\">\n",
       "      <th></th>\n",
       "      <th>Image_name</th>\n",
       "      <th>Grade_DR</th>\n",
       "      <th>Risk_Edema</th>\n",
       "    </tr>\n",
       "  </thead>\n",
       "  <tbody>\n",
       "    <tr>\n",
       "      <th>0</th>\n",
       "      <td>IDRiD_001</td>\n",
       "      <td>3</td>\n",
       "      <td>2</td>\n",
       "    </tr>\n",
       "    <tr>\n",
       "      <th>1</th>\n",
       "      <td>IDRiD_002</td>\n",
       "      <td>3</td>\n",
       "      <td>2</td>\n",
       "    </tr>\n",
       "    <tr>\n",
       "      <th>3</th>\n",
       "      <td>IDRiD_004</td>\n",
       "      <td>3</td>\n",
       "      <td>2</td>\n",
       "    </tr>\n",
       "    <tr>\n",
       "      <th>8</th>\n",
       "      <td>IDRiD_009</td>\n",
       "      <td>3</td>\n",
       "      <td>2</td>\n",
       "    </tr>\n",
       "    <tr>\n",
       "      <th>10</th>\n",
       "      <td>IDRiD_011</td>\n",
       "      <td>3</td>\n",
       "      <td>1</td>\n",
       "    </tr>\n",
       "  </tbody>\n",
       "</table>\n",
       "</div>"
      ],
      "text/plain": [
       "   Image_name  Grade_DR  Risk_Edema\n",
       "0   IDRiD_001         3           2\n",
       "1   IDRiD_002         3           2\n",
       "3   IDRiD_004         3           2\n",
       "8   IDRiD_009         3           2\n",
       "10  IDRiD_011         3           1"
      ]
     },
     "execution_count": 19,
     "metadata": {},
     "output_type": "execute_result"
    }
   ],
   "source": [
    "#FILTERING IMAGES BELONGING TO 3\n",
    "mask3 = load_data['Grade_DR'].isin([3])\n",
    "class3 = load_data[mask3]\n",
    "print(class3.shape)\n",
    "class3.head()"
   ]
  },
  {
   "cell_type": "code",
   "execution_count": 23,
   "metadata": {},
   "outputs": [
    {
     "name": "stdout",
     "output_type": "stream",
     "text": [
      "(49, 3)\n"
     ]
    },
    {
     "data": {
      "text/html": [
       "<div>\n",
       "<style scoped>\n",
       "    .dataframe tbody tr th:only-of-type {\n",
       "        vertical-align: middle;\n",
       "    }\n",
       "\n",
       "    .dataframe tbody tr th {\n",
       "        vertical-align: top;\n",
       "    }\n",
       "\n",
       "    .dataframe thead th {\n",
       "        text-align: right;\n",
       "    }\n",
       "</style>\n",
       "<table border=\"1\" class=\"dataframe\">\n",
       "  <thead>\n",
       "    <tr style=\"text-align: right;\">\n",
       "      <th></th>\n",
       "      <th>Image_name</th>\n",
       "      <th>Grade_DR</th>\n",
       "      <th>Risk_Edema</th>\n",
       "    </tr>\n",
       "  </thead>\n",
       "  <tbody>\n",
       "    <tr>\n",
       "      <th>4</th>\n",
       "      <td>IDRiD_005</td>\n",
       "      <td>4</td>\n",
       "      <td>0</td>\n",
       "    </tr>\n",
       "    <tr>\n",
       "      <th>5</th>\n",
       "      <td>IDRiD_006</td>\n",
       "      <td>4</td>\n",
       "      <td>1</td>\n",
       "    </tr>\n",
       "    <tr>\n",
       "      <th>6</th>\n",
       "      <td>IDRiD_007</td>\n",
       "      <td>4</td>\n",
       "      <td>0</td>\n",
       "    </tr>\n",
       "    <tr>\n",
       "      <th>7</th>\n",
       "      <td>IDRiD_008</td>\n",
       "      <td>4</td>\n",
       "      <td>2</td>\n",
       "    </tr>\n",
       "    <tr>\n",
       "      <th>9</th>\n",
       "      <td>IDRiD_010</td>\n",
       "      <td>4</td>\n",
       "      <td>1</td>\n",
       "    </tr>\n",
       "  </tbody>\n",
       "</table>\n",
       "</div>"
      ],
      "text/plain": [
       "  Image_name  Grade_DR  Risk_Edema\n",
       "4  IDRiD_005         4           0\n",
       "5  IDRiD_006         4           1\n",
       "6  IDRiD_007         4           0\n",
       "7  IDRiD_008         4           2\n",
       "9  IDRiD_010         4           1"
      ]
     },
     "execution_count": 23,
     "metadata": {},
     "output_type": "execute_result"
    }
   ],
   "source": [
    "#FILTERING IMAGES BELONGING TO 4\n",
    "mask4 = load_data['Grade_DR'].isin([4])\n",
    "class4 = load_data[mask4]\n",
    "print(class4.shape)\n",
    "class4.head()"
   ]
  },
  {
   "cell_type": "code",
   "execution_count": 27,
   "metadata": {},
   "outputs": [],
   "source": [
    "#MOVING FILES TO THE SPECIFIC GRADING FOLDERS\n",
    "grp0T_dir = os.path.join(classify_dir, 'No_DR')\n",
    "grp1T_dir = os.path.join(classify_dir, 'Mild_NPDR')\n",
    "grp2T_dir = os.path.join(classify_dir, 'Moderate_NPDR')\n",
    "grp3T_dir = os.path.join(classify_dir, 'Severe_NPDR')\n",
    "grp4T_dir = os.path.join(classify_dir, 'Proliferative_DR')"
   ]
  },
  {
   "cell_type": "code",
   "execution_count": 30,
   "metadata": {},
   "outputs": [],
   "source": [
    "#Transfering grade 0\n",
    "for index, image in enumerate(class0['Image_name']):\n",
    "    image_path = os.path.join(classify_dir, image + '.jpg')\n",
    "    #print(image_path)\n",
    "    image = image + '.jpg'\n",
    "    os.rename(image_path, os.path.join(grp0T_dir, image))"
   ]
  },
  {
   "cell_type": "code",
   "execution_count": 31,
   "metadata": {},
   "outputs": [],
   "source": [
    "#Transfering grade 1\n",
    "for index, image in enumerate(class1['Image_name']):\n",
    "    image_path = os.path.join(classify_dir, image + '.jpg')\n",
    "    #print(image_path)\n",
    "    image = image + '.jpg'\n",
    "    os.rename(image_path, os.path.join(grp1T_dir, image))"
   ]
  },
  {
   "cell_type": "code",
   "execution_count": 32,
   "metadata": {},
   "outputs": [],
   "source": [
    "#Transfering grade 2\n",
    "for index, image in enumerate(class2['Image_name']):\n",
    "    image_path = os.path.join(classify_dir, image + '.jpg')\n",
    "    #print(image_path)\n",
    "    image = image + '.jpg'\n",
    "    os.rename(image_path, os.path.join(grp2T_dir, image))"
   ]
  },
  {
   "cell_type": "code",
   "execution_count": 33,
   "metadata": {},
   "outputs": [],
   "source": [
    "#Transfering grade 3\n",
    "for index, image in enumerate(class3['Image_name']):\n",
    "    image_path = os.path.join(classify_dir, image + '.jpg')\n",
    "    #print(image_path)\n",
    "    image = image + '.jpg'\n",
    "    os.rename(image_path, os.path.join(grp3T_dir, image))"
   ]
  },
  {
   "cell_type": "code",
   "execution_count": 34,
   "metadata": {},
   "outputs": [],
   "source": [
    "#Transfering grade 4\n",
    "for index, image in enumerate(class4['Image_name']):\n",
    "    image_path = os.path.join(classify_dir, image + '.jpg')\n",
    "    #print(image_path)\n",
    "    image = image + '.jpg'\n",
    "    os.rename(image_path, os.path.join(grp4T_dir, image))"
   ]
  },
  {
   "cell_type": "code",
   "execution_count": null,
   "metadata": {},
   "outputs": [],
   "source": [
    "##Transfered"
   ]
  },
  {
   "cell_type": "markdown",
   "metadata": {},
   "source": [
    "# DATA TRANSFERING TESTING SET"
   ]
  },
  {
   "cell_type": "code",
   "execution_count": 37,
   "metadata": {},
   "outputs": [],
   "source": [
    "load_data = pd.read_csv(os.path.join(ground_truths, 'b. IDRiD_Disease Grading_Testing Labels.csv'))"
   ]
  },
  {
   "cell_type": "code",
   "execution_count": 38,
   "metadata": {},
   "outputs": [
    {
     "name": "stdout",
     "output_type": "stream",
     "text": [
      "  Image name  Retinopathy grade  Risk of macular edema \n",
      "0  IDRiD_001                  4                       0\n",
      "1  IDRiD_002                  4                       1\n",
      "2  IDRiD_003                  4                       0\n",
      "3  IDRiD_004                  4                       0\n",
      "4  IDRiD_005                  4                       1\n"
     ]
    }
   ],
   "source": [
    "print(load_data.head())"
   ]
  },
  {
   "cell_type": "code",
   "execution_count": 39,
   "metadata": {},
   "outputs": [],
   "source": [
    "load_data.rename(columns={\"Image name\":\"Image_name\",\"Retinopathy grade\":\"Grade_DR\", \"Risk of macular edema \":\"Risk_Edema\"}, inplace = True)"
   ]
  },
  {
   "cell_type": "code",
   "execution_count": 40,
   "metadata": {},
   "outputs": [
    {
     "name": "stdout",
     "output_type": "stream",
     "text": [
      "(34, 3)\n"
     ]
    },
    {
     "data": {
      "text/html": [
       "<div>\n",
       "<style scoped>\n",
       "    .dataframe tbody tr th:only-of-type {\n",
       "        vertical-align: middle;\n",
       "    }\n",
       "\n",
       "    .dataframe tbody tr th {\n",
       "        vertical-align: top;\n",
       "    }\n",
       "\n",
       "    .dataframe thead th {\n",
       "        text-align: right;\n",
       "    }\n",
       "</style>\n",
       "<table border=\"1\" class=\"dataframe\">\n",
       "  <thead>\n",
       "    <tr style=\"text-align: right;\">\n",
       "      <th></th>\n",
       "      <th>Image_name</th>\n",
       "      <th>Grade_DR</th>\n",
       "      <th>Risk_Edema</th>\n",
       "    </tr>\n",
       "  </thead>\n",
       "  <tbody>\n",
       "    <tr>\n",
       "      <th>28</th>\n",
       "      <td>IDRiD_029</td>\n",
       "      <td>0</td>\n",
       "      <td>0</td>\n",
       "    </tr>\n",
       "    <tr>\n",
       "      <th>29</th>\n",
       "      <td>IDRiD_030</td>\n",
       "      <td>0</td>\n",
       "      <td>0</td>\n",
       "    </tr>\n",
       "    <tr>\n",
       "      <th>36</th>\n",
       "      <td>IDRiD_037</td>\n",
       "      <td>0</td>\n",
       "      <td>0</td>\n",
       "    </tr>\n",
       "    <tr>\n",
       "      <th>37</th>\n",
       "      <td>IDRiD_038</td>\n",
       "      <td>0</td>\n",
       "      <td>0</td>\n",
       "    </tr>\n",
       "    <tr>\n",
       "      <th>38</th>\n",
       "      <td>IDRiD_039</td>\n",
       "      <td>0</td>\n",
       "      <td>0</td>\n",
       "    </tr>\n",
       "  </tbody>\n",
       "</table>\n",
       "</div>"
      ],
      "text/plain": [
       "   Image_name  Grade_DR  Risk_Edema\n",
       "28  IDRiD_029         0           0\n",
       "29  IDRiD_030         0           0\n",
       "36  IDRiD_037         0           0\n",
       "37  IDRiD_038         0           0\n",
       "38  IDRiD_039         0           0"
      ]
     },
     "execution_count": 40,
     "metadata": {},
     "output_type": "execute_result"
    }
   ],
   "source": [
    "#FILTERING IMAGES BELONGING TO 0\n",
    "mask0 = load_data['Grade_DR'].isin([0])\n",
    "class0 = load_data[mask0]\n",
    "print(class0.shape)\n",
    "class0.head()"
   ]
  },
  {
   "cell_type": "code",
   "execution_count": 41,
   "metadata": {},
   "outputs": [
    {
     "name": "stdout",
     "output_type": "stream",
     "text": [
      "(5, 3)\n"
     ]
    },
    {
     "data": {
      "text/html": [
       "<div>\n",
       "<style scoped>\n",
       "    .dataframe tbody tr th:only-of-type {\n",
       "        vertical-align: middle;\n",
       "    }\n",
       "\n",
       "    .dataframe tbody tr th {\n",
       "        vertical-align: top;\n",
       "    }\n",
       "\n",
       "    .dataframe thead th {\n",
       "        text-align: right;\n",
       "    }\n",
       "</style>\n",
       "<table border=\"1\" class=\"dataframe\">\n",
       "  <thead>\n",
       "    <tr style=\"text-align: right;\">\n",
       "      <th></th>\n",
       "      <th>Image_name</th>\n",
       "      <th>Grade_DR</th>\n",
       "      <th>Risk_Edema</th>\n",
       "    </tr>\n",
       "  </thead>\n",
       "  <tbody>\n",
       "    <tr>\n",
       "      <th>62</th>\n",
       "      <td>IDRiD_063</td>\n",
       "      <td>1</td>\n",
       "      <td>0</td>\n",
       "    </tr>\n",
       "    <tr>\n",
       "      <th>72</th>\n",
       "      <td>IDRiD_073</td>\n",
       "      <td>1</td>\n",
       "      <td>0</td>\n",
       "    </tr>\n",
       "    <tr>\n",
       "      <th>73</th>\n",
       "      <td>IDRiD_074</td>\n",
       "      <td>1</td>\n",
       "      <td>0</td>\n",
       "    </tr>\n",
       "    <tr>\n",
       "      <th>84</th>\n",
       "      <td>IDRiD_085</td>\n",
       "      <td>1</td>\n",
       "      <td>0</td>\n",
       "    </tr>\n",
       "    <tr>\n",
       "      <th>100</th>\n",
       "      <td>IDRiD_101</td>\n",
       "      <td>1</td>\n",
       "      <td>0</td>\n",
       "    </tr>\n",
       "  </tbody>\n",
       "</table>\n",
       "</div>"
      ],
      "text/plain": [
       "    Image_name  Grade_DR  Risk_Edema\n",
       "62   IDRiD_063         1           0\n",
       "72   IDRiD_073         1           0\n",
       "73   IDRiD_074         1           0\n",
       "84   IDRiD_085         1           0\n",
       "100  IDRiD_101         1           0"
      ]
     },
     "execution_count": 41,
     "metadata": {},
     "output_type": "execute_result"
    }
   ],
   "source": [
    "#FILTERING IMAGES BELONGING TO 1\n",
    "mask1 = load_data['Grade_DR'].isin([1])\n",
    "class1 = load_data[mask1]\n",
    "print(class1.shape)\n",
    "class1.head()"
   ]
  },
  {
   "cell_type": "code",
   "execution_count": 42,
   "metadata": {},
   "outputs": [
    {
     "name": "stdout",
     "output_type": "stream",
     "text": [
      "(32, 3)\n"
     ]
    },
    {
     "data": {
      "text/html": [
       "<div>\n",
       "<style scoped>\n",
       "    .dataframe tbody tr th:only-of-type {\n",
       "        vertical-align: middle;\n",
       "    }\n",
       "\n",
       "    .dataframe tbody tr th {\n",
       "        vertical-align: top;\n",
       "    }\n",
       "\n",
       "    .dataframe thead th {\n",
       "        text-align: right;\n",
       "    }\n",
       "</style>\n",
       "<table border=\"1\" class=\"dataframe\">\n",
       "  <thead>\n",
       "    <tr style=\"text-align: right;\">\n",
       "      <th></th>\n",
       "      <th>Image_name</th>\n",
       "      <th>Grade_DR</th>\n",
       "      <th>Risk_Edema</th>\n",
       "    </tr>\n",
       "  </thead>\n",
       "  <tbody>\n",
       "    <tr>\n",
       "      <th>7</th>\n",
       "      <td>IDRiD_008</td>\n",
       "      <td>2</td>\n",
       "      <td>2</td>\n",
       "    </tr>\n",
       "    <tr>\n",
       "      <th>8</th>\n",
       "      <td>IDRiD_009</td>\n",
       "      <td>2</td>\n",
       "      <td>2</td>\n",
       "    </tr>\n",
       "    <tr>\n",
       "      <th>9</th>\n",
       "      <td>IDRiD_010</td>\n",
       "      <td>2</td>\n",
       "      <td>2</td>\n",
       "    </tr>\n",
       "    <tr>\n",
       "      <th>10</th>\n",
       "      <td>IDRiD_011</td>\n",
       "      <td>2</td>\n",
       "      <td>2</td>\n",
       "    </tr>\n",
       "    <tr>\n",
       "      <th>11</th>\n",
       "      <td>IDRiD_012</td>\n",
       "      <td>2</td>\n",
       "      <td>2</td>\n",
       "    </tr>\n",
       "  </tbody>\n",
       "</table>\n",
       "</div>"
      ],
      "text/plain": [
       "   Image_name  Grade_DR  Risk_Edema\n",
       "7   IDRiD_008         2           2\n",
       "8   IDRiD_009         2           2\n",
       "9   IDRiD_010         2           2\n",
       "10  IDRiD_011         2           2\n",
       "11  IDRiD_012         2           2"
      ]
     },
     "execution_count": 42,
     "metadata": {},
     "output_type": "execute_result"
    }
   ],
   "source": [
    "#FILTERING IMAGES BELONGING TO 2\n",
    "mask2 = load_data['Grade_DR'].isin([2])\n",
    "class2 = load_data[mask2]\n",
    "print(class2.shape)\n",
    "class2.head()"
   ]
  },
  {
   "cell_type": "code",
   "execution_count": 43,
   "metadata": {},
   "outputs": [
    {
     "name": "stdout",
     "output_type": "stream",
     "text": [
      "(19, 3)\n"
     ]
    },
    {
     "data": {
      "text/html": [
       "<div>\n",
       "<style scoped>\n",
       "    .dataframe tbody tr th:only-of-type {\n",
       "        vertical-align: middle;\n",
       "    }\n",
       "\n",
       "    .dataframe tbody tr th {\n",
       "        vertical-align: top;\n",
       "    }\n",
       "\n",
       "    .dataframe thead th {\n",
       "        text-align: right;\n",
       "    }\n",
       "</style>\n",
       "<table border=\"1\" class=\"dataframe\">\n",
       "  <thead>\n",
       "    <tr style=\"text-align: right;\">\n",
       "      <th></th>\n",
       "      <th>Image_name</th>\n",
       "      <th>Grade_DR</th>\n",
       "      <th>Risk_Edema</th>\n",
       "    </tr>\n",
       "  </thead>\n",
       "  <tbody>\n",
       "    <tr>\n",
       "      <th>5</th>\n",
       "      <td>IDRiD_006</td>\n",
       "      <td>3</td>\n",
       "      <td>1</td>\n",
       "    </tr>\n",
       "    <tr>\n",
       "      <th>6</th>\n",
       "      <td>IDRiD_007</td>\n",
       "      <td>3</td>\n",
       "      <td>0</td>\n",
       "    </tr>\n",
       "    <tr>\n",
       "      <th>12</th>\n",
       "      <td>IDRiD_013</td>\n",
       "      <td>3</td>\n",
       "      <td>2</td>\n",
       "    </tr>\n",
       "    <tr>\n",
       "      <th>13</th>\n",
       "      <td>IDRiD_014</td>\n",
       "      <td>3</td>\n",
       "      <td>2</td>\n",
       "    </tr>\n",
       "    <tr>\n",
       "      <th>15</th>\n",
       "      <td>IDRiD_016</td>\n",
       "      <td>3</td>\n",
       "      <td>2</td>\n",
       "    </tr>\n",
       "  </tbody>\n",
       "</table>\n",
       "</div>"
      ],
      "text/plain": [
       "   Image_name  Grade_DR  Risk_Edema\n",
       "5   IDRiD_006         3           1\n",
       "6   IDRiD_007         3           0\n",
       "12  IDRiD_013         3           2\n",
       "13  IDRiD_014         3           2\n",
       "15  IDRiD_016         3           2"
      ]
     },
     "execution_count": 43,
     "metadata": {},
     "output_type": "execute_result"
    }
   ],
   "source": [
    "#FILTERING IMAGES BELONGING TO 3\n",
    "mask3 = load_data['Grade_DR'].isin([3])\n",
    "class3 = load_data[mask3]\n",
    "print(class3.shape)\n",
    "class3.head()"
   ]
  },
  {
   "cell_type": "code",
   "execution_count": 44,
   "metadata": {},
   "outputs": [
    {
     "name": "stdout",
     "output_type": "stream",
     "text": [
      "(13, 3)\n"
     ]
    },
    {
     "data": {
      "text/html": [
       "<div>\n",
       "<style scoped>\n",
       "    .dataframe tbody tr th:only-of-type {\n",
       "        vertical-align: middle;\n",
       "    }\n",
       "\n",
       "    .dataframe tbody tr th {\n",
       "        vertical-align: top;\n",
       "    }\n",
       "\n",
       "    .dataframe thead th {\n",
       "        text-align: right;\n",
       "    }\n",
       "</style>\n",
       "<table border=\"1\" class=\"dataframe\">\n",
       "  <thead>\n",
       "    <tr style=\"text-align: right;\">\n",
       "      <th></th>\n",
       "      <th>Image_name</th>\n",
       "      <th>Grade_DR</th>\n",
       "      <th>Risk_Edema</th>\n",
       "    </tr>\n",
       "  </thead>\n",
       "  <tbody>\n",
       "    <tr>\n",
       "      <th>0</th>\n",
       "      <td>IDRiD_001</td>\n",
       "      <td>4</td>\n",
       "      <td>0</td>\n",
       "    </tr>\n",
       "    <tr>\n",
       "      <th>1</th>\n",
       "      <td>IDRiD_002</td>\n",
       "      <td>4</td>\n",
       "      <td>1</td>\n",
       "    </tr>\n",
       "    <tr>\n",
       "      <th>2</th>\n",
       "      <td>IDRiD_003</td>\n",
       "      <td>4</td>\n",
       "      <td>0</td>\n",
       "    </tr>\n",
       "    <tr>\n",
       "      <th>3</th>\n",
       "      <td>IDRiD_004</td>\n",
       "      <td>4</td>\n",
       "      <td>0</td>\n",
       "    </tr>\n",
       "    <tr>\n",
       "      <th>4</th>\n",
       "      <td>IDRiD_005</td>\n",
       "      <td>4</td>\n",
       "      <td>1</td>\n",
       "    </tr>\n",
       "  </tbody>\n",
       "</table>\n",
       "</div>"
      ],
      "text/plain": [
       "  Image_name  Grade_DR  Risk_Edema\n",
       "0  IDRiD_001         4           0\n",
       "1  IDRiD_002         4           1\n",
       "2  IDRiD_003         4           0\n",
       "3  IDRiD_004         4           0\n",
       "4  IDRiD_005         4           1"
      ]
     },
     "execution_count": 44,
     "metadata": {},
     "output_type": "execute_result"
    }
   ],
   "source": [
    "#FILTERING IMAGES BELONGING TO 4\n",
    "mask4 = load_data['Grade_DR'].isin([4])\n",
    "class4 = load_data[mask4]\n",
    "print(class4.shape)\n",
    "class4.head()"
   ]
  },
  {
   "cell_type": "code",
   "execution_count": 45,
   "metadata": {},
   "outputs": [],
   "source": [
    "#MOVING FILES TO THE SPECIFIC GRADING FOLDERS\n",
    "grp0Te_dir = os.path.join(classify_dir1, 'No_DR')\n",
    "grp1Te_dir = os.path.join(classify_dir1, 'Mild_NPDR')\n",
    "grp2Te_dir = os.path.join(classify_dir1, 'Moderate_NPDR')\n",
    "grp3Te_dir = os.path.join(classify_dir1, 'Severe_NPDR')\n",
    "grp4Te_dir = os.path.join(classify_dir1, 'Proliferative_DR')"
   ]
  },
  {
   "cell_type": "code",
   "execution_count": 46,
   "metadata": {},
   "outputs": [],
   "source": [
    "#Transfering grade 0\n",
    "for index, image in enumerate(class0['Image_name']):\n",
    "    image_path = os.path.join(classify_dir1, image + '.jpg')\n",
    "    #print(image_path)\n",
    "    image = image + '.jpg'\n",
    "    os.rename(image_path, os.path.join(grp0Te_dir, image))"
   ]
  },
  {
   "cell_type": "code",
   "execution_count": 47,
   "metadata": {},
   "outputs": [],
   "source": [
    "#Transfering grade 1\n",
    "for index, image in enumerate(class1['Image_name']):\n",
    "    image_path = os.path.join(classify_dir1, image + '.jpg')\n",
    "    #print(image_path)\n",
    "    image = image + '.jpg'\n",
    "    os.rename(image_path, os.path.join(grp1Te_dir, image))"
   ]
  },
  {
   "cell_type": "code",
   "execution_count": 48,
   "metadata": {},
   "outputs": [],
   "source": [
    "#Transfering grade 2\n",
    "for index, image in enumerate(class2['Image_name']):\n",
    "    image_path = os.path.join(classify_dir1, image + '.jpg')\n",
    "    #print(image_path)\n",
    "    image = image + '.jpg'\n",
    "    os.rename(image_path, os.path.join(grp2Te_dir, image))"
   ]
  },
  {
   "cell_type": "code",
   "execution_count": 49,
   "metadata": {},
   "outputs": [],
   "source": [
    "#Transfering grade 3\n",
    "for index, image in enumerate(class3['Image_name']):\n",
    "    image_path = os.path.join(classify_dir1, image + '.jpg')\n",
    "    #print(image_path)\n",
    "    image = image + '.jpg'\n",
    "    os.rename(image_path, os.path.join(grp3Te_dir, image))"
   ]
  },
  {
   "cell_type": "code",
   "execution_count": 50,
   "metadata": {},
   "outputs": [],
   "source": [
    "#Transfering grade 4\n",
    "for index, image in enumerate(class4['Image_name']):\n",
    "    image_path = os.path.join(classify_dir1, image + '.jpg')\n",
    "    #print(image_path)\n",
    "    image = image + '.jpg'\n",
    "    os.rename(image_path, os.path.join(grp4Te_dir, image))"
   ]
  },
  {
   "cell_type": "code",
   "execution_count": null,
   "metadata": {},
   "outputs": [],
   "source": [
    "##TRANSFERED"
   ]
  },
  {
   "cell_type": "code",
   "execution_count": null,
   "metadata": {},
   "outputs": [],
   "source": []
  },
  {
   "cell_type": "code",
   "execution_count": null,
   "metadata": {},
   "outputs": [],
   "source": []
  },
  {
   "cell_type": "code",
   "execution_count": null,
   "metadata": {},
   "outputs": [],
   "source": []
  },
  {
   "cell_type": "code",
   "execution_count": null,
   "metadata": {},
   "outputs": [],
   "source": []
  },
  {
   "cell_type": "code",
   "execution_count": null,
   "metadata": {},
   "outputs": [],
   "source": []
  },
  {
   "cell_type": "code",
   "execution_count": null,
   "metadata": {},
   "outputs": [],
   "source": []
  },
  {
   "cell_type": "code",
   "execution_count": null,
   "metadata": {},
   "outputs": [],
   "source": []
  },
  {
   "cell_type": "code",
   "execution_count": null,
   "metadata": {},
   "outputs": [],
   "source": []
  },
  {
   "cell_type": "code",
   "execution_count": null,
   "metadata": {},
   "outputs": [],
   "source": []
  },
  {
   "cell_type": "code",
   "execution_count": null,
   "metadata": {},
   "outputs": [],
   "source": []
  },
  {
   "cell_type": "code",
   "execution_count": null,
   "metadata": {},
   "outputs": [],
   "source": []
  },
  {
   "cell_type": "code",
   "execution_count": null,
   "metadata": {},
   "outputs": [],
   "source": []
  },
  {
   "cell_type": "code",
   "execution_count": null,
   "metadata": {},
   "outputs": [],
   "source": []
  },
  {
   "cell_type": "code",
   "execution_count": null,
   "metadata": {},
   "outputs": [],
   "source": []
  },
  {
   "cell_type": "code",
   "execution_count": null,
   "metadata": {},
   "outputs": [],
   "source": []
  },
  {
   "cell_type": "code",
   "execution_count": null,
   "metadata": {},
   "outputs": [],
   "source": []
  },
  {
   "cell_type": "code",
   "execution_count": null,
   "metadata": {},
   "outputs": [],
   "source": []
  },
  {
   "cell_type": "code",
   "execution_count": null,
   "metadata": {},
   "outputs": [],
   "source": []
  },
  {
   "cell_type": "code",
   "execution_count": null,
   "metadata": {},
   "outputs": [],
   "source": []
  },
  {
   "cell_type": "code",
   "execution_count": null,
   "metadata": {},
   "outputs": [],
   "source": []
  },
  {
   "cell_type": "code",
   "execution_count": null,
   "metadata": {},
   "outputs": [],
   "source": []
  },
  {
   "cell_type": "code",
   "execution_count": null,
   "metadata": {},
   "outputs": [],
   "source": []
  },
  {
   "cell_type": "code",
   "execution_count": null,
   "metadata": {},
   "outputs": [],
   "source": []
  },
  {
   "cell_type": "code",
   "execution_count": null,
   "metadata": {},
   "outputs": [],
   "source": []
  },
  {
   "cell_type": "code",
   "execution_count": null,
   "metadata": {},
   "outputs": [],
   "source": []
  }
 ],
 "metadata": {
  "kernelspec": {
   "display_name": "Python 3",
   "language": "python",
   "name": "python3"
  },
  "language_info": {
   "codemirror_mode": {
    "name": "ipython",
    "version": 3
   },
   "file_extension": ".py",
   "mimetype": "text/x-python",
   "name": "python",
   "nbconvert_exporter": "python",
   "pygments_lexer": "ipython3",
   "version": "3.7.9"
  }
 },
 "nbformat": 4,
 "nbformat_minor": 2
}
