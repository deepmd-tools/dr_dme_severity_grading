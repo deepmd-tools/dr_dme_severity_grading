{
 "cells": [
  {
   "cell_type": "code",
   "execution_count": 1,
   "metadata": {},
   "outputs": [],
   "source": [
    "import os\n",
    "import pandas as pd"
   ]
  },
  {
   "cell_type": "code",
   "execution_count": 2,
   "metadata": {},
   "outputs": [
    {
     "name": "stdout",
     "output_type": "stream",
     "text": [
      "C:\\Users\\prajw\\Downloads\\Documents\\TENSORFLOW TUTORIAL\\DEEP LEARNING PROJECTS\\DR_DATASET\n"
     ]
    }
   ],
   "source": [
    "currentDir = os.getcwd()\n",
    "print(currentDir)"
   ]
  },
  {
   "cell_type": "code",
   "execution_count": 3,
   "metadata": {},
   "outputs": [
    {
     "name": "stdout",
     "output_type": "stream",
     "text": [
      "C:\\Users\\prajw\\Downloads\\Documents\\TENSORFLOW TUTORIAL\\DEEP LEARNING PROJECTS\\DR_DATASET\\DATASET\n"
     ]
    }
   ],
   "source": [
    "base_dir = os.path.join(currentDir, 'DATASET')\n",
    "print(base_dir)\n",
    "\n",
    "train_dir = os.path.join(base_dir, 'Training Set')\n",
    "validation_dir = os.path.join(base_dir, 'Testing Set')\n",
    "\n",
    "#Directory with our training cat/dog pictures\n",
    "train_ndr_dir = os.path.join(train_dir, 'A')\n",
    "train_mnpdr_dir = os.path.join(train_dir, 'B')\n",
    "train_monpdr_dir = os.path.join(train_dir, 'C')\n",
    "train_snpdr_dir = os.path.join(train_dir, 'D')\n",
    "train_pdr_dir = os.path.join(train_dir, 'E')\n",
    "\n",
    "#Directory with our validation cat/dog pictures\n",
    "validation_ndr_dir = os.path.join(validation_dir, 'A')\n",
    "validation_mnpdr_dir = os.path.join(validation_dir, 'B')\n",
    "validation_monpdr_dir = os.path.join(validation_dir, 'C')\n",
    "validation_snpdr_dir = os.path.join(validation_dir, 'D')\n",
    "validation_pdr_dir = os.path.join(validation_dir, 'E')"
   ]
  },
  {
   "cell_type": "code",
   "execution_count": 4,
   "metadata": {},
   "outputs": [
    {
     "name": "stdout",
     "output_type": "stream",
     "text": [
      "\n",
      "Total validation No_DR images:  816\n",
      "Total validation Mild_NPDR images:  120\n",
      "Total validation Moderate_NPDR images:  768\n",
      "Total validation Severe_NPDR images:  456\n",
      "Total validation No_DR images:  312\n"
     ]
    }
   ],
   "source": [
    "print('Total training No_DR images: ', len(os.listdir(train_ndr_dir)))\n",
    "print('Total training Mild_NPDR images: ', len(os.listdir(train_mnpdr_dir)))\n",
    "print('Total training Moderate_NPDR images: ', len(os.listdir(train_monpdr_dir)))\n",
    "print('Total training Severe_NPDR images: ', len(os.listdir(train_snpdr_dir)))\n",
    "print('Total training No_DR images: ', len(os.listdir(train_pdr_dir)))\n",
    "print(\"\")\n",
    "print('Total validation No_DR images: ', len(os.listdir(validation_ndr_dir)))\n",
    "print('Total validation Mild_NPDR images: ', len(os.listdir(validation_mnpdr_dir)))\n",
    "print('Total validation Moderate_NPDR images: ', len(os.listdir(validation_monpdr_dir)))\n",
    "print('Total validation Severe_NPDR images: ', len(os.listdir(validation_snpdr_dir)))\n",
    "print('Total validation No_DR images: ', len(os.listdir(validation_pdr_dir)))"
   ]
  },
  {
   "cell_type": "code",
   "execution_count": 5,
   "metadata": {},
   "outputs": [],
   "source": [
    "#GETTING FILENAMES TRAINING\n",
    "x_train_filenamesNDR = os.listdir(train_ndr_dir) \n",
    "x_train_filenamesMNPDR  = os.listdir(train_mnpdr_dir)\n",
    "x_train_filenamesMoNPDR = os.listdir(train_monpdr_dir)\n",
    "x_train_filenamesSNPDR = os.listdir(train_snpdr_dir)\n",
    "x_train_filenamesPDR = os.listdir(train_pdr_dir)\n",
    "\n",
    "#GETTING FILENAMES TESTING\n",
    "y_validation_filenamesNDR = os.listdir(validation_ndr_dir)\n",
    "y_validation_filenamesMNPDR = os.listdir(validation_mnpdr_dir)\n",
    "y_validation_filenamesMoNPDR = os.listdir(validation_monpdr_dir)\n",
    "y_validation_filenamesSNPDR = os.listdir(validation_snpdr_dir)\n",
    "y_validation_filenamesPDR = os.listdir(validation_pdr_dir)"
   ]
  },
  {
   "cell_type": "code",
   "execution_count": null,
   "metadata": {},
   "outputs": [],
   "source": [
    "print(len(x_train_filenamesPDR))"
   ]
  },
  {
   "cell_type": "code",
   "execution_count": 6,
   "metadata": {},
   "outputs": [
    {
     "name": "stdout",
     "output_type": "stream",
     "text": [
      "312\n"
     ]
    }
   ],
   "source": [
    "print(len(y_validation_filenamesPDR))"
   ]
  },
  {
   "cell_type": "markdown",
   "metadata": {},
   "source": [
    "# For Training Set"
   ]
  },
  {
   "cell_type": "code",
   "execution_count": null,
   "metadata": {},
   "outputs": [],
   "source": [
    "## Lets create a dataframe with column names where\n",
    "## we can add our images lists and its corresponding labels\n",
    "\n",
    "## More efficient method\n",
    "stagesDR = [0, 1, 2, 3, 4]"
   ]
  },
  {
   "cell_type": "code",
   "execution_count": null,
   "metadata": {},
   "outputs": [],
   "source": [
    "def manageLabels(stageFilenames, stageRank):\n",
    "    labelDF = pd.concat([pd.DataFrame([[stageA, stagesDR[stageRank]]], columns = ['Train_Image_Names', 'Labels']) \n",
    "                         for stageA in stageFilenames], ignore_index=True)\n",
    "    return labelDF"
   ]
  },
  {
   "cell_type": "code",
   "execution_count": null,
   "metadata": {},
   "outputs": [],
   "source": [
    "labelDF1 = manageLabels(x_train_filenamesNDR, 0)\n",
    "labelDF2 = manageLabels(x_train_filenamesMNPDR, 1)\n",
    "labelDF3 = manageLabels(x_train_filenamesMoNPDR, 2)\n",
    "labelDF4 = manageLabels(x_train_filenamesSNPDR, 3)\n",
    "labelDF5 = manageLabels(x_train_filenamesPDR, 4)"
   ]
  },
  {
   "cell_type": "code",
   "execution_count": null,
   "metadata": {},
   "outputs": [],
   "source": [
    "print(\"...START...\")\n",
    "masterLabelTrain = pd.concat([labelDF1,labelDF2,labelDF3,\n",
    "                              labelDF4,labelDF5], ignore_index = True)\n",
    "masterLabelTrain = masterLabelTrain.sample(frac=1).reset_index(drop=True)\n",
    "masterLabelTrain.to_csv(os.path.join(base_dir, \"master_train_labels.csv\"), index = None, header = True)\n",
    "print(\"...DONE...\")"
   ]
  },
  {
   "cell_type": "markdown",
   "metadata": {},
   "source": [
    "# For Testing Set"
   ]
  },
  {
   "cell_type": "code",
   "execution_count": 7,
   "metadata": {},
   "outputs": [],
   "source": [
    "stagesDR = [0, 1, 2, 3, 4]"
   ]
  },
  {
   "cell_type": "code",
   "execution_count": 8,
   "metadata": {},
   "outputs": [],
   "source": [
    "def manageLabels(stageFilenames, stageRank):\n",
    "    labelDF = pd.concat([pd.DataFrame([[stageA, stagesDR[stageRank]]], columns = ['Train_Image_Names', 'Labels']) \n",
    "                         for stageA in stageFilenames], ignore_index=True)\n",
    "    return labelDF"
   ]
  },
  {
   "cell_type": "code",
   "execution_count": 9,
   "metadata": {},
   "outputs": [],
   "source": [
    "labelDF1 = manageLabels(y_validation_filenamesNDR, 0)\n",
    "labelDF2 = manageLabels(y_validation_filenamesMNPDR, 1)\n",
    "labelDF3 = manageLabels(y_validation_filenamesMoNPDR, 2)\n",
    "labelDF4 = manageLabels(y_validation_filenamesSNPDR, 3)\n",
    "labelDF5 = manageLabels(y_validation_filenamesPDR, 4)"
   ]
  },
  {
   "cell_type": "code",
   "execution_count": 10,
   "metadata": {},
   "outputs": [
    {
     "name": "stdout",
     "output_type": "stream",
     "text": [
      "...START...\n",
      "...DONE...\n"
     ]
    }
   ],
   "source": [
    "print(\"...START...\")\n",
    "masterLabelTrain = pd.concat([labelDF1,labelDF2,labelDF3,\n",
    "                              labelDF4,labelDF5], ignore_index = True)\n",
    "masterLabelTrain = masterLabelTrain.sample(frac=1).reset_index(drop=True)\n",
    "masterLabelTrain.to_csv(os.path.join(base_dir, \"master_test_labels.csv\"), index = None, header = True)\n",
    "print(\"...DONE...\")"
   ]
  },
  {
   "cell_type": "markdown",
   "metadata": {},
   "source": [
    "## Move images out of folders"
   ]
  },
  {
   "cell_type": "markdown",
   "metadata": {},
   "source": [
    "### For training set"
   ]
  },
  {
   "cell_type": "code",
   "execution_count": null,
   "metadata": {},
   "outputs": [],
   "source": [
    "def moveFinalImages(imagesFileNames, imagesFolderNames):\n",
    "    for imagesTransfer in imagesFileNames:\n",
    "        imagePath = os.path.join(imagesFolderNames, imagesTransfer)\n",
    "        os.rename(imagePath, os.path.join(train_dir, imagesTransfer))"
   ]
  },
  {
   "cell_type": "code",
   "execution_count": null,
   "metadata": {},
   "outputs": [],
   "source": [
    "moveFinalImages(x_train_filenamesNDR, train_ndr_dir)\n",
    "moveFinalImages(x_train_filenamesMNPDR, train_mnpdr_dir)\n",
    "moveFinalImages(x_train_filenamesMoNPDR, train_monpdr_dir)\n",
    "moveFinalImages(x_train_filenamesSNPDR, train_snpdr_dir)\n",
    "moveFinalImages(x_train_filenamesPDR, train_pdr_dir)"
   ]
  },
  {
   "cell_type": "markdown",
   "metadata": {},
   "source": [
    "### For test set"
   ]
  },
  {
   "cell_type": "code",
   "execution_count": 20,
   "metadata": {},
   "outputs": [],
   "source": [
    "def moveFinalImages(imagesFileNames, imagesFolderNames):\n",
    "    for imagesTransfer in imagesFileNames:\n",
    "        imagePath = os.path.join(imagesFolderNames, imagesTransfer)\n",
    "        os.rename(imagePath, os.path.join(validation_dir, imagesTransfer))"
   ]
  },
  {
   "cell_type": "code",
   "execution_count": 21,
   "metadata": {
    "scrolled": true
   },
   "outputs": [],
   "source": [
    "moveFinalImages(y_validation_filenamesNDR, validation_ndr_dir)\n",
    "moveFinalImages(y_validation_filenamesMNPDR, validation_mnpdr_dir)\n",
    "moveFinalImages(y_validation_filenamesMoNPDR, validation_monpdr_dir)\n",
    "moveFinalImages(y_validation_filenamesSNPDR, validation_snpdr_dir)\n",
    "moveFinalImages(y_validation_filenamesPDR, validation_pdr_dir)"
   ]
  },
  {
   "cell_type": "markdown",
   "metadata": {},
   "source": [
    "# MORE REPEATING CODES\n",
    "# UPDATED VERSION IS ABOVE"
   ]
  },
  {
   "cell_type": "code",
   "execution_count": null,
   "metadata": {},
   "outputs": [],
   "source": [
    "## More efficient method\n",
    "labelDF1 = pd.concat([pd.DataFrame([[stageA, stagesDR[0]]], columns = ['Train_Image_Names', 'Labels']) \n",
    "                 for stageA in x_train_filenamesNDR], ignore_index=True)"
   ]
  },
  {
   "cell_type": "code",
   "execution_count": null,
   "metadata": {},
   "outputs": [],
   "source": [
    "labelDF2 = pd.concat([pd.DataFrame([[stageA, stagesDR[1]]], columns = ['Train_Image_Names', 'Labels']) \n",
    "                 for stageA in x_train_filenamesMNPDR], ignore_index=True)"
   ]
  },
  {
   "cell_type": "code",
   "execution_count": null,
   "metadata": {},
   "outputs": [],
   "source": [
    "labelDF3 = pd.concat([pd.DataFrame([[stageA, stagesDR[2]]], columns = ['Train_Image_Names', 'Labels']) \n",
    "                 for stageA in x_train_filenamesMoNPDR], ignore_index=True)"
   ]
  },
  {
   "cell_type": "code",
   "execution_count": null,
   "metadata": {},
   "outputs": [],
   "source": [
    "labelDF4 = pd.concat([pd.DataFrame([[stageA, stagesDR[3]]], columns = ['Train_Image_Names', 'Labels']) \n",
    "                 for stageA in x_train_filenamesSNPDR], ignore_index=True)"
   ]
  },
  {
   "cell_type": "code",
   "execution_count": null,
   "metadata": {},
   "outputs": [],
   "source": [
    "labelDF5 = pd.concat([pd.DataFrame([[stageA, stagesDR[4]]], columns = ['Train_Image_Names', 'Labels']) \n",
    "                 for stageA in x_train_filenamesPDR], ignore_index=True)"
   ]
  },
  {
   "cell_type": "code",
   "execution_count": null,
   "metadata": {},
   "outputs": [],
   "source": [
    "masterLabelTrain = pd.concat([labelDF1,labelDF2,labelDF3,\n",
    "                        labelDF4,labelDF5], ignore_index = True)"
   ]
  },
  {
   "cell_type": "code",
   "execution_count": null,
   "metadata": {},
   "outputs": [],
   "source": [
    "masterLabelTrain = masterLabelTrain.sample(frac=1).reset_index(drop=True)"
   ]
  },
  {
   "cell_type": "code",
   "execution_count": null,
   "metadata": {},
   "outputs": [],
   "source": [
    "masterLabelTrain.to_csv(os.path.join(base_dir, \"master_train_labels.csv\"), index = None, header = True)\n",
    "print(\"...DONE...\")"
   ]
  },
  {
   "cell_type": "code",
   "execution_count": null,
   "metadata": {},
   "outputs": [],
   "source": []
  },
  {
   "cell_type": "code",
   "execution_count": null,
   "metadata": {},
   "outputs": [],
   "source": [
    "## Less efficient method\n",
    "\n",
    "columnsDF = ['Train_Image_Names', 'Labels']\n",
    "labelDF = pd.DataFrame(columns = columnsDF)\n",
    "labelDF"
   ]
  },
  {
   "cell_type": "code",
   "execution_count": null,
   "metadata": {},
   "outputs": [],
   "source": [
    "for stageA in x_train_filenamesNDR:\n",
    "    #print(stageA)\n",
    "    #break\n",
    "    labelDF = labelDF.append({'Train_Image_Names':stageA, 'Labels':stagesDR[0]}, ignore_index = True)\n",
    "labelDF"
   ]
  },
  {
   "cell_type": "raw",
   "metadata": {},
   "source": [
    "## SAMPLE CODE for more efficient method\n",
    "pd.concat([pd.DataFrame([i], columns=['A']) for i in range(5)],\n",
    "           ignore_index=True)"
   ]
  },
  {
   "cell_type": "code",
   "execution_count": null,
   "metadata": {},
   "outputs": [],
   "source": [
    "## More efficient method\n",
    "ram = pd.concat([pd.DataFrame([[i, stagesDR[0]]], columns = ['A', 'B']) for i in x_train_filenamesNDR], ignore_index=True)\n",
    "ram"
   ]
  },
  {
   "cell_type": "code",
   "execution_count": null,
   "metadata": {},
   "outputs": [],
   "source": []
  },
  {
   "cell_type": "code",
   "execution_count": null,
   "metadata": {},
   "outputs": [],
   "source": [
    "newS = pd.read_csv(os.path.join(base_dir, \"master_train_labels.csv\"))\n",
    "newS"
   ]
  },
  {
   "cell_type": "code",
   "execution_count": null,
   "metadata": {},
   "outputs": [],
   "source": []
  },
  {
   "cell_type": "code",
   "execution_count": null,
   "metadata": {},
   "outputs": [],
   "source": []
  }
 ],
 "metadata": {
  "kernelspec": {
   "display_name": "Python 3",
   "language": "python",
   "name": "python3"
  },
  "language_info": {
   "codemirror_mode": {
    "name": "ipython",
    "version": 3
   },
   "file_extension": ".py",
   "mimetype": "text/x-python",
   "name": "python",
   "nbconvert_exporter": "python",
   "pygments_lexer": "ipython3",
   "version": "3.7.9"
  }
 },
 "nbformat": 4,
 "nbformat_minor": 2
}
